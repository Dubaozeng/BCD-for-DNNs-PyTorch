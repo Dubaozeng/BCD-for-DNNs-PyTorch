{
 "cells": [
  {
   "cell_type": "markdown",
   "metadata": {},
   "source": [
    "# MLP on the MNIST Dataset"
   ]
  },
  {
   "cell_type": "markdown",
   "metadata": {},
   "source": [
    "Trains four simple NNs with 10 hidden layers on the MNIST dataset. (5 runs, seed = 10, 20, 30, 40, 50)\n",
    "\n",
    "1. 784-800 (10 times)-10 (Fully Connected; MSE; lr = 0.01)\n",
    "\n",
    "~1 seconds per epoch on 4 GTX1080 Ti GPU, ~2 seconds per epoch on a GTX1070 GPU."
   ]
  },
  {
   "cell_type": "markdown",
   "metadata": {},
   "source": [
    "## Import Tensorflow package (for Keras) and Reproducibility"
   ]
  },
  {
   "cell_type": "code",
   "execution_count": 1,
   "metadata": {},
   "outputs": [],
   "source": [
    "import numpy as np\n",
    "import tensorflow as tf\n",
    "import random as rn\n",
    "import matplotlib.pyplot as plt\n",
    "\n",
    "import os\n",
    "os.environ['PYTHONHASHSEED'] = '0'\n",
    "\n",
    "seed = 10\n",
    "\n",
    "# The below is necessary for starting Numpy generated random numbers\n",
    "# in a well-defined initial state.\n",
    "\n",
    "np.random.seed(seed)\n",
    "\n",
    "# The below is necessary for starting core Python generated random numbers\n",
    "# in a well-defined state.\n",
    "\n",
    "rn.seed(seed)\n",
    "\n",
    "session_conf = tf.ConfigProto(intra_op_parallelism_threads=1, inter_op_parallelism_threads=4)\n",
    "\n",
    "# from keras import backend as K\n",
    "\n",
    "# The below tf.set_random_seed() will make random number generation\n",
    "# in the TensorFlow backend have a well-defined initial state.\n",
    "# For further details, see: https://www.tensorflow.org/api_docs/python/tf/set_random_seed\n",
    "\n",
    "tf.set_random_seed(seed)\n",
    "\n",
    "sess = tf.Session(graph=tf.get_default_graph(), config=session_conf)\n",
    "tf.keras.backend.set_session(sess)"
   ]
  },
  {
   "cell_type": "markdown",
   "metadata": {},
   "source": [
    "## Import the MNIST dataset"
   ]
  },
  {
   "cell_type": "code",
   "execution_count": 2,
   "metadata": {},
   "outputs": [
    {
     "name": "stdout",
     "output_type": "stream",
     "text": [
      "60000 train samples\n",
      "10000 test samples\n"
     ]
    }
   ],
   "source": [
    "batch_size = 512\n",
    "num_classes = 10\n",
    "epochs = 30\n",
    "\n",
    "# the data, shuffled and split between train and test sets\n",
    "(x_train, y_train), (x_test, y_test) = tf.keras.datasets.mnist.load_data()\n",
    "\n",
    "print(x_train.shape[0], 'train samples')\n",
    "print(x_test.shape[0], 'test samples')"
   ]
  },
  {
   "cell_type": "markdown",
   "metadata": {},
   "source": [
    "## Data Transformation"
   ]
  },
  {
   "cell_type": "code",
   "execution_count": 3,
   "metadata": {},
   "outputs": [],
   "source": [
    "x_train = x_train.reshape((60000, 784), order='F') # reshaping order fixed to the same as BCD\n",
    "x_test = x_test.reshape((10000, 784), order='F') # reshaping order fixed to the same as BCD\n",
    "x_train = x_train.astype('float32')\n",
    "x_test = x_test.astype('float32')\n",
    "x_train /= 255\n",
    "x_test /= 255\n",
    "\n",
    "# convert class vectors to binary class matrices\n",
    "y_train = tf.keras.utils.to_categorical(y_train, num_classes)\n",
    "y_test = tf.keras.utils.to_categorical(y_test, num_classes)"
   ]
  },
  {
   "cell_type": "markdown",
   "metadata": {},
   "source": [
    "# MLP"
   ]
  },
  {
   "cell_type": "markdown",
   "metadata": {},
   "source": [
    "## Model Setup"
   ]
  },
  {
   "cell_type": "markdown",
   "metadata": {},
   "source": [
    "Input -> 9 Fully Connected (600) + ReLU -> Fully Connected (10) -> Squared loss"
   ]
  },
  {
   "cell_type": "code",
   "execution_count": 4,
   "metadata": {},
   "outputs": [],
   "source": [
    "hidden_dim = 600\n",
    "\n",
    "# model 1 (SGD)\n",
    "model = tf.keras.models.Sequential()\n",
    "model.add(tf.keras.layers.Dense(hidden_dim, input_shape=(784,), activation='relu', use_bias=True, \n",
    "                                                          kernel_initializer=tf.keras.initializers.RandomNormal(mean=0.0, stddev=0.01, seed=seed), \n",
    "                                                          bias_initializer=tf.keras.initializers.Constant(value=0.1)))\n",
    "model.add(tf.keras.layers.Dense(hidden_dim, activation='relu', use_bias=True, \n",
    "                                        kernel_initializer=tf.keras.initializers.RandomNormal(mean=0.0, stddev=0.01, seed=seed), \n",
    "                                        bias_initializer=tf.keras.initializers.Constant(value=0.1)))\n",
    "model.add(tf.keras.layers.Dense(hidden_dim, activation='relu', use_bias=True, \n",
    "                                        kernel_initializer=tf.keras.initializers.RandomNormal(mean=0.0, stddev=0.01, seed=seed), \n",
    "                                        bias_initializer=tf.keras.initializers.Constant(value=0.1)))\n",
    "model.add(tf.keras.layers.Dense(hidden_dim, activation='relu', use_bias=True, \n",
    "                                        kernel_initializer=tf.keras.initializers.RandomNormal(mean=0.0, stddev=0.01, seed=seed), \n",
    "                                        bias_initializer=tf.keras.initializers.Constant(value=0.1)))\n",
    "model.add(tf.keras.layers.Dense(hidden_dim, activation='relu', use_bias=True, \n",
    "                                        kernel_initializer=tf.keras.initializers.RandomNormal(mean=0.0, stddev=0.01, seed=seed), \n",
    "                                        bias_initializer=tf.keras.initializers.Constant(value=0.1)))\n",
    "model.add(tf.keras.layers.Dense(hidden_dim, activation='relu', use_bias=True, \n",
    "                                        kernel_initializer=tf.keras.initializers.RandomNormal(mean=0.0, stddev=0.01, seed=seed), \n",
    "                                        bias_initializer=tf.keras.initializers.Constant(value=0.1)))\n",
    "model.add(tf.keras.layers.Dense(hidden_dim, activation='relu', use_bias=True, \n",
    "                                        kernel_initializer=tf.keras.initializers.RandomNormal(mean=0.0, stddev=0.01, seed=seed), \n",
    "                                        bias_initializer=tf.keras.initializers.Constant(value=0.1)))\n",
    "model.add(tf.keras.layers.Dense(hidden_dim, activation='relu', use_bias=True, \n",
    "                                        kernel_initializer=tf.keras.initializers.RandomNormal(mean=0.0, stddev=0.01, seed=seed), \n",
    "                                        bias_initializer=tf.keras.initializers.Constant(value=0.1)))\n",
    "model.add(tf.keras.layers.Dense(hidden_dim, activation='relu', use_bias=True, \n",
    "                                        kernel_initializer=tf.keras.initializers.RandomNormal(mean=0.0, stddev=0.01, seed=seed), \n",
    "                                        bias_initializer=tf.keras.initializers.Constant(value=0.1)))\n",
    "model.add(tf.keras.layers.Dense(hidden_dim, activation='relu', use_bias=True, \n",
    "                                        kernel_initializer=tf.keras.initializers.RandomNormal(mean=0.0, stddev=0.01, seed=seed), \n",
    "                                        bias_initializer=tf.keras.initializers.Constant(value=0.1)))\n",
    "model.add(tf.keras.layers.Dense(num_classes, activation=None, use_bias=True, \n",
    "                kernel_initializer=tf.keras.initializers.RandomNormal(mean=0.0, stddev=0.01, seed=seed), \n",
    "                bias_initializer=tf.keras.initializers.Constant(value=0.1)))"
   ]
  },
  {
   "cell_type": "markdown",
   "metadata": {},
   "source": [
    "### SGD Optimizer"
   ]
  },
  {
   "cell_type": "code",
   "execution_count": 5,
   "metadata": {},
   "outputs": [
    {
     "name": "stdout",
     "output_type": "stream",
     "text": [
      "_________________________________________________________________\n",
      "Layer (type)                 Output Shape              Param #   \n",
      "=================================================================\n",
      "dense (Dense)                (None, 600)               471000    \n",
      "_________________________________________________________________\n",
      "dense_1 (Dense)              (None, 600)               360600    \n",
      "_________________________________________________________________\n",
      "dense_2 (Dense)              (None, 600)               360600    \n",
      "_________________________________________________________________\n",
      "dense_3 (Dense)              (None, 600)               360600    \n",
      "_________________________________________________________________\n",
      "dense_4 (Dense)              (None, 600)               360600    \n",
      "_________________________________________________________________\n",
      "dense_5 (Dense)              (None, 600)               360600    \n",
      "_________________________________________________________________\n",
      "dense_6 (Dense)              (None, 600)               360600    \n",
      "_________________________________________________________________\n",
      "dense_7 (Dense)              (None, 600)               360600    \n",
      "_________________________________________________________________\n",
      "dense_8 (Dense)              (None, 600)               360600    \n",
      "_________________________________________________________________\n",
      "dense_9 (Dense)              (None, 600)               360600    \n",
      "_________________________________________________________________\n",
      "dense_10 (Dense)             (None, 10)                6010      \n",
      "=================================================================\n",
      "Total params: 3,722,410\n",
      "Trainable params: 3,722,410\n",
      "Non-trainable params: 0\n",
      "_________________________________________________________________\n"
     ]
    }
   ],
   "source": [
    "sgd = tf.keras.optimizers.SGD(lr=0.001, decay=0, momentum=0, nesterov=False)\n",
    "model.compile(loss='mean_squared_error', optimizer=sgd, metrics=['accuracy'])\n",
    "model.summary()"
   ]
  },
  {
   "cell_type": "code",
   "execution_count": 6,
   "metadata": {},
   "outputs": [],
   "source": [
    "# model 2 (Adam)\n",
    "model_2 = tf.keras.models.Sequential()\n",
    "model_2.add(tf.keras.layers.Dense(hidden_dim, input_shape=(784,), activation='relu', use_bias=True, \n",
    "                                                          kernel_initializer=tf.keras.initializers.RandomNormal(mean=0.0, stddev=0.01, seed=seed), \n",
    "                                                          bias_initializer=tf.keras.initializers.Constant(value=0.1)))\n",
    "model_2.add(tf.keras.layers.Dense(hidden_dim, activation='relu', use_bias=True, \n",
    "                                        kernel_initializer=tf.keras.initializers.RandomNormal(mean=0.0, stddev=0.01, seed=seed), \n",
    "                                        bias_initializer=tf.keras.initializers.Constant(value=0.1)))\n",
    "model_2.add(tf.keras.layers.Dense(hidden_dim, activation='relu', use_bias=True, \n",
    "                                        kernel_initializer=tf.keras.initializers.RandomNormal(mean=0.0, stddev=0.01, seed=seed), \n",
    "                                        bias_initializer=tf.keras.initializers.Constant(value=0.1)))\n",
    "model_2.add(tf.keras.layers.Dense(hidden_dim, activation='relu', use_bias=True, \n",
    "                                        kernel_initializer=tf.keras.initializers.RandomNormal(mean=0.0, stddev=0.01, seed=seed), \n",
    "                                        bias_initializer=tf.keras.initializers.Constant(value=0.1)))\n",
    "model_2.add(tf.keras.layers.Dense(hidden_dim, activation='relu', use_bias=True, \n",
    "                                        kernel_initializer=tf.keras.initializers.RandomNormal(mean=0.0, stddev=0.01, seed=seed), \n",
    "                                        bias_initializer=tf.keras.initializers.Constant(value=0.1)))\n",
    "model_2.add(tf.keras.layers.Dense(hidden_dim, activation='relu', use_bias=True, \n",
    "                                        kernel_initializer=tf.keras.initializers.RandomNormal(mean=0.0, stddev=0.01, seed=seed), \n",
    "                                        bias_initializer=tf.keras.initializers.Constant(value=0.1)))\n",
    "model_2.add(tf.keras.layers.Dense(hidden_dim, activation='relu', use_bias=True, \n",
    "                                        kernel_initializer=tf.keras.initializers.RandomNormal(mean=0.0, stddev=0.01, seed=seed), \n",
    "                                        bias_initializer=tf.keras.initializers.Constant(value=0.1)))\n",
    "model_2.add(tf.keras.layers.Dense(hidden_dim, activation='relu', use_bias=True, \n",
    "                                        kernel_initializer=tf.keras.initializers.RandomNormal(mean=0.0, stddev=0.01, seed=seed), \n",
    "                                        bias_initializer=tf.keras.initializers.Constant(value=0.1)))\n",
    "model_2.add(tf.keras.layers.Dense(hidden_dim, activation='relu', use_bias=True, \n",
    "                                        kernel_initializer=tf.keras.initializers.RandomNormal(mean=0.0, stddev=0.01, seed=seed), \n",
    "                                        bias_initializer=tf.keras.initializers.Constant(value=0.1)))\n",
    "model_2.add(tf.keras.layers.Dense(hidden_dim, activation='relu', use_bias=True, \n",
    "                                        kernel_initializer=tf.keras.initializers.RandomNormal(mean=0.0, stddev=0.01, seed=seed), \n",
    "                                        bias_initializer=tf.keras.initializers.Constant(value=0.1)))\n",
    "model_2.add(tf.keras.layers.Dense(num_classes, activation=None, use_bias=True, \n",
    "                kernel_initializer=tf.keras.initializers.RandomNormal(mean=0.0, stddev=0.01, seed=seed), \n",
    "                bias_initializer=tf.keras.initializers.Constant(value=0.1)))"
   ]
  },
  {
   "cell_type": "markdown",
   "metadata": {},
   "source": [
    "### Adam Optimizer"
   ]
  },
  {
   "cell_type": "code",
   "execution_count": 7,
   "metadata": {},
   "outputs": [
    {
     "name": "stdout",
     "output_type": "stream",
     "text": [
      "_________________________________________________________________\n",
      "Layer (type)                 Output Shape              Param #   \n",
      "=================================================================\n",
      "dense_11 (Dense)             (None, 600)               471000    \n",
      "_________________________________________________________________\n",
      "dense_12 (Dense)             (None, 600)               360600    \n",
      "_________________________________________________________________\n",
      "dense_13 (Dense)             (None, 600)               360600    \n",
      "_________________________________________________________________\n",
      "dense_14 (Dense)             (None, 600)               360600    \n",
      "_________________________________________________________________\n",
      "dense_15 (Dense)             (None, 600)               360600    \n",
      "_________________________________________________________________\n",
      "dense_16 (Dense)             (None, 600)               360600    \n",
      "_________________________________________________________________\n",
      "dense_17 (Dense)             (None, 600)               360600    \n",
      "_________________________________________________________________\n",
      "dense_18 (Dense)             (None, 600)               360600    \n",
      "_________________________________________________________________\n",
      "dense_19 (Dense)             (None, 600)               360600    \n",
      "_________________________________________________________________\n",
      "dense_20 (Dense)             (None, 600)               360600    \n",
      "_________________________________________________________________\n",
      "dense_21 (Dense)             (None, 10)                6010      \n",
      "=================================================================\n",
      "Total params: 3,722,410\n",
      "Trainable params: 3,722,410\n",
      "Non-trainable params: 0\n",
      "_________________________________________________________________\n"
     ]
    }
   ],
   "source": [
    "adam = tf.keras.optimizers.Adam(lr=0.001, beta_1=0.9, beta_2=0.999, epsilon=None, decay=0.0, amsgrad=False)\n",
    "model_2.compile(loss='mean_squared_error', optimizer=adam, metrics=['accuracy'])\n",
    "model_2.summary()"
   ]
  },
  {
   "cell_type": "markdown",
   "metadata": {},
   "source": [
    "## Fit the Model using Back Propagation (Vanilla SGD)"
   ]
  },
  {
   "cell_type": "markdown",
   "metadata": {},
   "source": [
    "### SGD"
   ]
  },
  {
   "cell_type": "code",
   "execution_count": 8,
   "metadata": {},
   "outputs": [
    {
     "name": "stdout",
     "output_type": "stream",
     "text": [
      "Train on 60000 samples, validate on 10000 samples\n",
      "Epoch 1/30\n",
      " - 1s - loss: 0.0906 - acc: 0.0903 - val_loss: 0.0905 - val_acc: 0.0892\n",
      "Epoch 2/30\n",
      " - 1s - loss: 0.0904 - acc: 0.0903 - val_loss: 0.0903 - val_acc: 0.0892\n",
      "Epoch 3/30\n",
      " - 1s - loss: 0.0902 - acc: 0.0903 - val_loss: 0.0902 - val_acc: 0.0892\n",
      "Epoch 4/30\n",
      " - 1s - loss: 0.0902 - acc: 0.0943 - val_loss: 0.0901 - val_acc: 0.0958\n",
      "Epoch 5/30\n",
      " - 1s - loss: 0.0901 - acc: 0.0986 - val_loss: 0.0901 - val_acc: 0.0958\n",
      "Epoch 6/30\n",
      " - 1s - loss: 0.0901 - acc: 0.0986 - val_loss: 0.0901 - val_acc: 0.0958\n",
      "Epoch 7/30\n",
      " - 1s - loss: 0.0900 - acc: 0.0993 - val_loss: 0.0900 - val_acc: 0.1135\n",
      "Epoch 8/30\n",
      " - 1s - loss: 0.0900 - acc: 0.1124 - val_loss: 0.0900 - val_acc: 0.1135\n",
      "Epoch 9/30\n",
      " - 1s - loss: 0.0900 - acc: 0.1124 - val_loss: 0.0900 - val_acc: 0.1135\n",
      "Epoch 10/30\n",
      " - 1s - loss: 0.0900 - acc: 0.1124 - val_loss: 0.0900 - val_acc: 0.1135\n",
      "Epoch 11/30\n",
      " - 1s - loss: 0.0900 - acc: 0.1124 - val_loss: 0.0900 - val_acc: 0.1135\n",
      "Epoch 12/30\n",
      " - 1s - loss: 0.0900 - acc: 0.1124 - val_loss: 0.0900 - val_acc: 0.1135\n",
      "Epoch 13/30\n",
      " - 1s - loss: 0.0900 - acc: 0.1124 - val_loss: 0.0900 - val_acc: 0.1135\n",
      "Epoch 14/30\n",
      " - 1s - loss: 0.0900 - acc: 0.1124 - val_loss: 0.0900 - val_acc: 0.1135\n",
      "Epoch 15/30\n",
      " - 1s - loss: 0.0900 - acc: 0.1124 - val_loss: 0.0900 - val_acc: 0.1135\n",
      "Epoch 16/30\n",
      " - 1s - loss: 0.0900 - acc: 0.1124 - val_loss: 0.0900 - val_acc: 0.1135\n",
      "Epoch 17/30\n",
      " - 1s - loss: 0.0900 - acc: 0.1124 - val_loss: 0.0900 - val_acc: 0.1135\n",
      "Epoch 18/30\n",
      " - 1s - loss: 0.0900 - acc: 0.1124 - val_loss: 0.0900 - val_acc: 0.1135\n",
      "Epoch 19/30\n",
      " - 1s - loss: 0.0900 - acc: 0.1124 - val_loss: 0.0900 - val_acc: 0.1135\n",
      "Epoch 20/30\n",
      " - 1s - loss: 0.0900 - acc: 0.1124 - val_loss: 0.0900 - val_acc: 0.1135\n",
      "Epoch 21/30\n",
      " - 1s - loss: 0.0900 - acc: 0.1124 - val_loss: 0.0900 - val_acc: 0.1135\n",
      "Epoch 22/30\n",
      " - 1s - loss: 0.0900 - acc: 0.1124 - val_loss: 0.0900 - val_acc: 0.1135\n",
      "Epoch 23/30\n",
      " - 1s - loss: 0.0900 - acc: 0.1124 - val_loss: 0.0900 - val_acc: 0.1135\n",
      "Epoch 24/30\n",
      " - 1s - loss: 0.0900 - acc: 0.1124 - val_loss: 0.0900 - val_acc: 0.1135\n",
      "Epoch 25/30\n",
      " - 1s - loss: 0.0900 - acc: 0.1124 - val_loss: 0.0900 - val_acc: 0.1135\n",
      "Epoch 26/30\n",
      " - 1s - loss: 0.0900 - acc: 0.1124 - val_loss: 0.0900 - val_acc: 0.1135\n",
      "Epoch 27/30\n",
      " - 1s - loss: 0.0900 - acc: 0.1124 - val_loss: 0.0900 - val_acc: 0.1135\n",
      "Epoch 28/30\n",
      " - 1s - loss: 0.0900 - acc: 0.1124 - val_loss: 0.0900 - val_acc: 0.1135\n",
      "Epoch 29/30\n",
      " - 1s - loss: 0.0900 - acc: 0.1124 - val_loss: 0.0900 - val_acc: 0.1135\n",
      "Epoch 30/30\n",
      " - 1s - loss: 0.0900 - acc: 0.1124 - val_loss: 0.0900 - val_acc: 0.1135\n",
      "Test loss: 0.08996873377561569\n",
      "Test accuracy: 0.1135\n"
     ]
    }
   ],
   "source": [
    "history = model.fit(x_train, y_train,\n",
    "                    batch_size=batch_size,\n",
    "                    epochs=epochs,\n",
    "                    verbose=2,\n",
    "                    validation_data=(x_test, y_test),\n",
    "                    shuffle=False)\n",
    "score = model.evaluate(x_test, y_test, verbose=0)\n",
    "print('Test loss:', score[0])\n",
    "print('Test accuracy:', score[1])"
   ]
  },
  {
   "cell_type": "markdown",
   "metadata": {},
   "source": [
    "### Adam"
   ]
  },
  {
   "cell_type": "code",
   "execution_count": 9,
   "metadata": {},
   "outputs": [
    {
     "name": "stdout",
     "output_type": "stream",
     "text": [
      "Train on 60000 samples, validate on 10000 samples\n",
      "Epoch 1/30\n",
      " - 2s - loss: 0.0903 - acc: 0.1043 - val_loss: 0.0901 - val_acc: 0.1010\n",
      "Epoch 2/30\n",
      " - 1s - loss: 0.0901 - acc: 0.1064 - val_loss: 0.0900 - val_acc: 0.1028\n",
      "Epoch 3/30\n",
      " - 1s - loss: 0.0890 - acc: 0.1336 - val_loss: 0.0816 - val_acc: 0.2072\n",
      "Epoch 4/30\n",
      " - 1s - loss: 0.0705 - acc: 0.3586 - val_loss: 0.0632 - val_acc: 0.4510\n",
      "Epoch 5/30\n",
      " - 1s - loss: 0.0521 - acc: 0.5492 - val_loss: 0.0478 - val_acc: 0.5870\n",
      "Epoch 6/30\n",
      " - 1s - loss: 0.0437 - acc: 0.6377 - val_loss: 0.0387 - val_acc: 0.6745\n",
      "Epoch 7/30\n",
      " - 1s - loss: 0.0306 - acc: 0.7728 - val_loss: 0.0228 - val_acc: 0.8454\n",
      "Epoch 8/30\n",
      " - 1s - loss: 0.0188 - acc: 0.9009 - val_loss: 0.0144 - val_acc: 0.9184\n",
      "Epoch 9/30\n",
      " - 1s - loss: 0.0112 - acc: 0.9385 - val_loss: 0.0106 - val_acc: 0.9409\n",
      "Epoch 10/30\n",
      " - 1s - loss: 0.0091 - acc: 0.9480 - val_loss: 0.0102 - val_acc: 0.9420\n",
      "Epoch 11/30\n",
      " - 1s - loss: 0.0081 - acc: 0.9528 - val_loss: 0.0078 - val_acc: 0.9538\n",
      "Epoch 12/30\n",
      " - 1s - loss: 0.0063 - acc: 0.9634 - val_loss: 0.0064 - val_acc: 0.9630\n",
      "Epoch 13/30\n",
      " - 1s - loss: 0.0058 - acc: 0.9658 - val_loss: 0.0063 - val_acc: 0.9627\n",
      "Epoch 14/30\n",
      " - 1s - loss: 0.0050 - acc: 0.9705 - val_loss: 0.0056 - val_acc: 0.9674\n",
      "Epoch 15/30\n",
      " - 1s - loss: 0.0048 - acc: 0.9715 - val_loss: 0.0060 - val_acc: 0.9641\n",
      "Epoch 16/30\n",
      " - 1s - loss: 0.0043 - acc: 0.9751 - val_loss: 0.0053 - val_acc: 0.9678\n",
      "Epoch 17/30\n",
      " - 1s - loss: 0.0039 - acc: 0.9770 - val_loss: 0.0060 - val_acc: 0.9650\n",
      "Epoch 18/30\n",
      " - 1s - loss: 0.0036 - acc: 0.9790 - val_loss: 0.0051 - val_acc: 0.9690\n",
      "Epoch 19/30\n",
      " - 1s - loss: 0.0035 - acc: 0.9797 - val_loss: 0.0053 - val_acc: 0.9679\n",
      "Epoch 20/30\n",
      " - 1s - loss: 0.0032 - acc: 0.9811 - val_loss: 0.0050 - val_acc: 0.9702\n",
      "Epoch 21/30\n",
      " - 1s - loss: 0.0031 - acc: 0.9818 - val_loss: 0.0046 - val_acc: 0.9728\n",
      "Epoch 22/30\n",
      " - 1s - loss: 0.0027 - acc: 0.9842 - val_loss: 0.0046 - val_acc: 0.9724\n",
      "Epoch 23/30\n",
      " - 1s - loss: 0.0025 - acc: 0.9852 - val_loss: 0.0049 - val_acc: 0.9707\n",
      "Epoch 24/30\n",
      " - 1s - loss: 0.0028 - acc: 0.9841 - val_loss: 0.0050 - val_acc: 0.9720\n",
      "Epoch 25/30\n",
      " - 1s - loss: 0.0028 - acc: 0.9837 - val_loss: 0.0043 - val_acc: 0.9744\n",
      "Epoch 26/30\n",
      " - 1s - loss: 0.0025 - acc: 0.9861 - val_loss: 0.0048 - val_acc: 0.9722\n",
      "Epoch 27/30\n",
      " - 1s - loss: 0.0024 - acc: 0.9863 - val_loss: 0.0047 - val_acc: 0.9724\n",
      "Epoch 28/30\n",
      " - 1s - loss: 0.0021 - acc: 0.9877 - val_loss: 0.0045 - val_acc: 0.9743\n",
      "Epoch 29/30\n",
      " - 1s - loss: 0.0020 - acc: 0.9884 - val_loss: 0.0043 - val_acc: 0.9750\n",
      "Epoch 30/30\n",
      " - 1s - loss: 0.0022 - acc: 0.9876 - val_loss: 0.0046 - val_acc: 0.9729\n",
      "Test loss: 0.004627080126502551\n",
      "Test accuracy: 0.9729\n"
     ]
    }
   ],
   "source": [
    "history_2 = model_2.fit(x_train, y_train,\n",
    "                    batch_size=batch_size,\n",
    "                    epochs=epochs,\n",
    "                    verbose=2,\n",
    "                    validation_data=(x_test, y_test),\n",
    "                    shuffle=False)\n",
    "score_2 = model_2.evaluate(x_test, y_test, verbose=0)\n",
    "print('Test loss:', score_2[0])\n",
    "print('Test accuracy:', score_2[1])"
   ]
  },
  {
   "cell_type": "markdown",
   "metadata": {},
   "source": [
    "## Loss and Accuracy Plots"
   ]
  },
  {
   "cell_type": "markdown",
   "metadata": {},
   "source": [
    "### SGD"
   ]
  },
  {
   "cell_type": "code",
   "execution_count": 10,
   "metadata": {},
   "outputs": [
    {
     "data": {
      "text/plain": [
       "<matplotlib.legend.Legend at 0x7f9a384d1f60>"
      ]
     },
     "execution_count": 10,
     "metadata": {},
     "output_type": "execute_result"
    },
    {
     "data": {
      "image/png": "[encoded data removed]",
      "text/plain": [
       "<Figure size 432x288 with 1 Axes>"
      ]
     },
     "metadata": {},
     "output_type": "display_data"
    },
    {
     "data": {
      "image/png": "[encoded data removed]",
      "text/plain": [
       "<Figure size 432x288 with 1 Axes>"
      ]
     },
     "metadata": {},
     "output_type": "display_data"
    }
   ],
   "source": [
    "# Plot of Losses\n",
    "history_dict = history.history\n",
    "loss_values = history_dict['loss']\n",
    "val_loss_values = history_dict['val_loss']\n",
    "acc_values = history_dict['acc']\n",
    "val_acc_values = history_dict['val_acc']\n",
    "\n",
    "epochs_index = range(1,len(loss_values)+1)\n",
    "fig_loss = plt.figure()\n",
    "plt.plot(epochs_index, loss_values, label='Training loss')\n",
    "plt.plot(epochs_index, val_loss_values, label='Validation loss')\n",
    "plt.title('Ten-layer MLP (SGD)')\n",
    "plt.xlabel('Epochs')\n",
    "plt.ylabel('Loss')\n",
    "plt.legend()\n",
    "\n",
    "\n",
    "# Plot of Accuracies\n",
    "fig_accuracy = plt.figure()\n",
    "plt.plot(epochs_index,acc_values, label='Training accuracy')\n",
    "plt.plot(epochs_index,val_acc_values, label='Validation accuracy')\n",
    "plt.title('Ten-layer MLP (SGD)')\n",
    "plt.xlabel('Epochs')\n",
    "plt.ylabel('Accuracy')\n",
    "plt.legend()"
   ]
  },
  {
   "cell_type": "markdown",
   "metadata": {},
   "source": [
    "### Adam"
   ]
  },
  {
   "cell_type": "code",
   "execution_count": 11,
   "metadata": {},
   "outputs": [
    {
     "data": {
      "text/plain": [
       "<matplotlib.legend.Legend at 0x7f9a383c6dd8>"
      ]
     },
     "execution_count": 11,
     "metadata": {},
     "output_type": "execute_result"
    },
    {
     "data": {
      "image/png": "[encoded data removed]",
      "text/plain": [
       "<Figure size 432x288 with 1 Axes>"
      ]
     },
     "metadata": {},
     "output_type": "display_data"
    },
    {
     "data": {
      "image/png": "[encoded data removed]",
      "text/plain": [
       "<Figure size 432x288 with 1 Axes>"
      ]
     },
     "metadata": {},
     "output_type": "display_data"
    }
   ],
   "source": [
    "# Plot of Losses\n",
    "history_dict_2 = history_2.history\n",
    "loss_values_2 = history_dict_2['loss']\n",
    "val_loss_values_2 = history_dict_2['val_loss']\n",
    "acc_values_2 = history_dict_2['acc']\n",
    "val_acc_values_2 = history_dict_2['val_acc']\n",
    "\n",
    "epochs_index = range(1,len(loss_values_2)+1)\n",
    "fig_loss_2 = plt.figure()\n",
    "plt.plot(epochs_index, loss_values_2, label='Training loss')\n",
    "plt.plot(epochs_index, val_loss_values_2, label='Validation loss')\n",
    "plt.title('Ten-layer MLP (Adam)')\n",
    "plt.xlabel('Epochs')\n",
    "plt.ylabel('Loss')\n",
    "plt.legend()\n",
    "\n",
    "\n",
    "# Plot of Accuracies\n",
    "fig_accuracy_2 = plt.figure()\n",
    "plt.plot(epochs_index,acc_values_2, label='Training accuracy')\n",
    "plt.plot(epochs_index,val_acc_values_2, label='Validation accuracy')\n",
    "plt.title('Ten-layer MLP (Adam)')\n",
    "plt.xlabel('Epochs')\n",
    "plt.ylabel('Accuracy')\n",
    "plt.legend()"
   ]
  },
  {
   "cell_type": "markdown",
   "metadata": {},
   "source": [
    "## Save the Plots"
   ]
  },
  {
   "cell_type": "code",
   "execution_count": 12,
   "metadata": {},
   "outputs": [],
   "source": [
    "#fig_accuracy_2.savefig('fig_accuracy_2.eps', format='eps', dpi=2000)\n",
    "#fig_accuracy_2.savefig('fig_accuracy_2.pdf', format='pdf', dpi=2000)"
   ]
  }
 ],
 "metadata": {
  "kernelspec": {
   "display_name": "Python 3",
   "language": "python",
   "name": "python3"
  },
  "language_info": {
   "codemirror_mode": {
    "name": "ipython",
    "version": 3
   },
   "file_extension": ".py",
   "mimetype": "text/x-python",
   "name": "python",
   "nbconvert_exporter": "python",
   "pygments_lexer": "ipython3",
   "version": "3.6.6"
  }
 },
 "nbformat": 4,
 "nbformat_minor": 2
}
