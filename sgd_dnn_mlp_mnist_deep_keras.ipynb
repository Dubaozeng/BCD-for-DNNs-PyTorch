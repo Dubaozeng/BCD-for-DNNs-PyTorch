{
 "cells": [
  {
   "cell_type": "markdown",
   "metadata": {},
   "source": [
    "# MLP on the MNIST Dataset"
   ]
  },
  {
   "cell_type": "markdown",
   "metadata": {},
   "source": [
    "Trains four simple NNs with 10 hidden layers on the MNIST dataset. (5 runs, seed = 10, 20, 30, 40, 50)\n",
    "\n",
    "1. 784-800 (10 times)-10 (Fully Connected; MSE; lr = 0.01)\n",
    "\n",
    "~1 seconds per epoch on 4 GTX1080 Ti GPU, ~2 seconds per epoch on a GTX1070 GPU."
   ]
  },
  {
   "cell_type": "markdown",
   "metadata": {},
   "source": [
    "## Import Tensorflow package (for Keras) and Reproducibility"
   ]
  },
  {
   "cell_type": "code",
   "execution_count": 1,
   "metadata": {},
   "outputs": [],
   "source": [
    "from __future__ import print_function\n",
    "\n",
    "import numpy as np\n",
    "import tensorflow as tf\n",
    "import random as rn\n",
    "import matplotlib.pyplot as plt\n",
    "\n",
    "import os\n",
    "os.environ['PYTHONHASHSEED'] = '0'\n",
    "\n",
    "seed = 20\n",
    "\n",
    "# The below is necessary for starting Numpy generated random numbers\n",
    "# in a well-defined initial state.\n",
    "\n",
    "np.random.seed(seed)\n",
    "\n",
    "# The below is necessary for starting core Python generated random numbers\n",
    "# in a well-defined state.\n",
    "\n",
    "rn.seed(seed)\n",
    "\n",
    "session_conf = tf.ConfigProto(intra_op_parallelism_threads=1, inter_op_parallelism_threads=4)\n",
    "\n",
    "# from keras import backend as K\n",
    "\n",
    "# The below tf.set_random_seed() will make random number generation\n",
    "# in the TensorFlow backend have a well-defined initial state.\n",
    "# For further details, see: https://www.tensorflow.org/api_docs/python/tf/set_random_seed\n",
    "\n",
    "tf.set_random_seed(seed)\n",
    "\n",
    "sess = tf.Session(graph=tf.get_default_graph(), config=session_conf)\n",
    "tf.keras.backend.set_session(sess)"
   ]
  },
  {
   "cell_type": "markdown",
   "metadata": {},
   "source": [
    "## Import the MNIST dataset"
   ]
  },
  {
   "cell_type": "code",
   "execution_count": 2,
   "metadata": {},
   "outputs": [
    {
     "name": "stdout",
     "output_type": "stream",
     "text": [
      "60000 train samples\n",
      "10000 test samples\n"
     ]
    }
   ],
   "source": [
    "batch_size = 512\n",
    "num_classes = 10\n",
    "epochs = 30\n",
    "\n",
    "# the data, shuffled and split between train and test sets\n",
    "(x_train, y_train), (x_test, y_test) = tf.keras.datasets.mnist.load_data()\n",
    "\n",
    "print(x_train.shape[0], 'train samples')\n",
    "print(x_test.shape[0], 'test samples')"
   ]
  },
  {
   "cell_type": "markdown",
   "metadata": {},
   "source": [
    "## Data Transformation"
   ]
  },
  {
   "cell_type": "code",
   "execution_count": 3,
   "metadata": {},
   "outputs": [],
   "source": [
    "x_train = x_train.reshape((60000, 784), order='F') # reshaping order fixed to the same as BCD\n",
    "x_test = x_test.reshape((10000, 784), order='F') # reshaping order fixed to the same as BCD\n",
    "x_train = x_train.astype('float32')\n",
    "x_test = x_test.astype('float32')\n",
    "x_train /= 255\n",
    "x_test /= 255\n",
    "\n",
    "# convert class vectors to binary class matrices\n",
    "y_train = tf.keras.utils.to_categorical(y_train, num_classes)\n",
    "y_test = tf.keras.utils.to_categorical(y_test, num_classes)"
   ]
  },
  {
   "cell_type": "markdown",
   "metadata": {},
   "source": [
    "# MLP"
   ]
  },
  {
   "cell_type": "markdown",
   "metadata": {},
   "source": [
    "## Model Setup"
   ]
  },
  {
   "cell_type": "markdown",
   "metadata": {},
   "source": [
    "Input -> 9 Fully Connected (600) + ReLU -> Fully Connected (10) -> Squared loss"
   ]
  },
  {
   "cell_type": "code",
   "execution_count": 4,
   "metadata": {},
   "outputs": [],
   "source": [
    "x0 = tf.keras.layers.Input(shape=(784,))\n",
    "u1 = tf.keras.layers.Dense(800, activation='relu', use_bias=True, kernel_initializer=tf.keras.initializers.RandomNormal(mean=0.0, stddev=0.01, seed=seed), bias_initializer=tf.keras.initializers.Constant(value=0.1))(x0)\n",
    "u2 = tf.keras.layers.Dense(800, activation='relu', use_bias=True, kernel_initializer=tf.keras.initializers.RandomNormal(mean=0.0, stddev=0.01, seed=seed), bias_initializer=tf.keras.initializers.Constant(value=0.1))(u1)\n",
    "u3 = tf.keras.layers.Dense(800, activation='relu', use_bias=True, kernel_initializer=tf.keras.initializers.RandomNormal(mean=0.0, stddev=0.01, seed=seed), bias_initializer=tf.keras.initializers.Constant(value=0.1))(u2)\n",
    "u4 = tf.keras.layers.Dense(800, activation='relu', use_bias=True, kernel_initializer=tf.keras.initializers.RandomNormal(mean=0.0, stddev=0.01, seed=seed), bias_initializer=tf.keras.initializers.Constant(value=0.1))(u3)\n",
    "u5 = tf.keras.layers.Dense(800, activation='relu', use_bias=True, kernel_initializer=tf.keras.initializers.RandomNormal(mean=0.0, stddev=0.01, seed=seed), bias_initializer=tf.keras.initializers.Constant(value=0.1))(u4)\n",
    "u6 = tf.keras.layers.Dense(800, activation='relu', use_bias=True, kernel_initializer=tf.keras.initializers.RandomNormal(mean=0.0, stddev=0.01, seed=seed), bias_initializer=tf.keras.initializers.Constant(value=0.1))(u5)\n",
    "u7 = tf.keras.layers.Dense(800, activation='relu', use_bias=True, kernel_initializer=tf.keras.initializers.RandomNormal(mean=0.0, stddev=0.01, seed=seed), bias_initializer=tf.keras.initializers.Constant(value=0.1))(u6)\n",
    "u8 = tf.keras.layers.Dense(800, activation='relu', use_bias=True, kernel_initializer=tf.keras.initializers.RandomNormal(mean=0.0, stddev=0.01, seed=seed), bias_initializer=tf.keras.initializers.Constant(value=0.1))(u7)\n",
    "u9 = tf.keras.layers.Dense(800, activation='relu', use_bias=True, kernel_initializer=tf.keras.initializers.RandomNormal(mean=0.0, stddev=0.01, seed=seed), bias_initializer=tf.keras.initializers.Constant(value=0.1))(u8)\n",
    "u10 = tf.keras.layers.Dense(800, activation='relu', use_bias=True, kernel_initializer=tf.keras.initializers.RandomNormal(mean=0.0, stddev=0.01, seed=seed), bias_initializer=tf.keras.initializers.Constant(value=0.1))(u9)\n",
    "y_mlp = tf.keras.layers.Dense(num_classes, activation=None, use_bias=True, kernel_initializer=tf.keras.initializers.RandomNormal(mean=0.0, stddev=0.01, seed=seed), bias_initializer=tf.keras.initializers.Constant(value=0.1))(u10)\n",
    "\n",
    "p0 = tf.keras.layers.Input(shape=(784,))\n",
    "v1 = tf.keras.layers.Dense(800, activation='relu', use_bias=True, kernel_initializer=tf.keras.initializers.RandomNormal(mean=0.0, stddev=0.01, seed=seed), bias_initializer=tf.keras.initializers.Constant(value=0.1))(p0)\n",
    "v2 = tf.keras.layers.Dense(800, activation='relu', use_bias=True, kernel_initializer=tf.keras.initializers.RandomNormal(mean=0.0, stddev=0.01, seed=seed), bias_initializer=tf.keras.initializers.Constant(value=0.1))(v1)\n",
    "v3 = tf.keras.layers.Dense(800, activation='relu', use_bias=True, kernel_initializer=tf.keras.initializers.RandomNormal(mean=0.0, stddev=0.01, seed=seed), bias_initializer=tf.keras.initializers.Constant(value=0.1))(v2)\n",
    "v4 = tf.keras.layers.Dense(800, activation='relu', use_bias=True, kernel_initializer=tf.keras.initializers.RandomNormal(mean=0.0, stddev=0.01, seed=seed), bias_initializer=tf.keras.initializers.Constant(value=0.1))(v3)\n",
    "v5 = tf.keras.layers.Dense(800, activation='relu', use_bias=True, kernel_initializer=tf.keras.initializers.RandomNormal(mean=0.0, stddev=0.01, seed=seed), bias_initializer=tf.keras.initializers.Constant(value=0.1))(v4)\n",
    "v6 = tf.keras.layers.Dense(800, activation='relu', use_bias=True, kernel_initializer=tf.keras.initializers.RandomNormal(mean=0.0, stddev=0.01, seed=seed), bias_initializer=tf.keras.initializers.Constant(value=0.1))(v5)\n",
    "v7 = tf.keras.layers.Dense(800, activation='relu', use_bias=True, kernel_initializer=tf.keras.initializers.RandomNormal(mean=0.0, stddev=0.01, seed=seed), bias_initializer=tf.keras.initializers.Constant(value=0.1))(v6)\n",
    "v8 = tf.keras.layers.Dense(800, activation='relu', use_bias=True, kernel_initializer=tf.keras.initializers.RandomNormal(mean=0.0, stddev=0.01, seed=seed), bias_initializer=tf.keras.initializers.Constant(value=0.1))(v7)\n",
    "v9 = tf.keras.layers.Dense(800, activation='relu', use_bias=True, kernel_initializer=tf.keras.initializers.RandomNormal(mean=0.0, stddev=0.01, seed=seed), bias_initializer=tf.keras.initializers.Constant(value=0.1))(v8)\n",
    "v10 = tf.keras.layers.Dense(800, activation='relu', use_bias=True, kernel_initializer=tf.keras.initializers.RandomNormal(mean=0.0, stddev=0.01, seed=seed), bias_initializer=tf.keras.initializers.Constant(value=0.1))(v9)\n",
    "y_mlp_2 = tf.keras.layers.Dense(num_classes, activation=None, use_bias=True, kernel_initializer=tf.keras.initializers.RandomNormal(mean=0.0, stddev=0.01, seed=seed), bias_initializer=tf.keras.initializers.Constant(value=0.1))(v10)"
   ]
  },
  {
   "cell_type": "markdown",
   "metadata": {},
   "source": [
    "### SGD Optimizer"
   ]
  },
  {
   "cell_type": "code",
   "execution_count": 5,
   "metadata": {},
   "outputs": [
    {
     "name": "stdout",
     "output_type": "stream",
     "text": [
      "_________________________________________________________________\n",
      "Layer (type)                 Output Shape              Param #   \n",
      "=================================================================\n",
      "input_1 (InputLayer)         (None, 784)               0         \n",
      "_________________________________________________________________\n",
      "dense_1 (Dense)              (None, 800)               628000    \n",
      "_________________________________________________________________\n",
      "dense_2 (Dense)              (None, 800)               640800    \n",
      "_________________________________________________________________\n",
      "dense_3 (Dense)              (None, 800)               640800    \n",
      "_________________________________________________________________\n",
      "dense_4 (Dense)              (None, 800)               640800    \n",
      "_________________________________________________________________\n",
      "dense_5 (Dense)              (None, 800)               640800    \n",
      "_________________________________________________________________\n",
      "dense_6 (Dense)              (None, 800)               640800    \n",
      "_________________________________________________________________\n",
      "dense_7 (Dense)              (None, 800)               640800    \n",
      "_________________________________________________________________\n",
      "dense_8 (Dense)              (None, 800)               640800    \n",
      "_________________________________________________________________\n",
      "dense_9 (Dense)              (None, 800)               640800    \n",
      "_________________________________________________________________\n",
      "dense_10 (Dense)             (None, 800)               640800    \n",
      "_________________________________________________________________\n",
      "dense_11 (Dense)             (None, 10)                8010      \n",
      "=================================================================\n",
      "Total params: 6,403,210\n",
      "Trainable params: 6,403,210\n",
      "Non-trainable params: 0\n",
      "_________________________________________________________________\n"
     ]
    }
   ],
   "source": [
    "# model (SGD)\n",
    "model = tf.keras.models.Model(inputs=x0, outputs=y_mlp)\n",
    "model.summary()\n",
    "\n",
    "sgd = tf.keras.optimizers.SGD(lr=0.01, decay=0, momentum=0, nesterov=False)\n",
    "model.compile(loss='mean_squared_error', optimizer=sgd, metrics=['accuracy'])"
   ]
  },
  {
   "cell_type": "markdown",
   "metadata": {},
   "source": [
    "### Adam Optimizer"
   ]
  },
  {
   "cell_type": "code",
   "execution_count": 6,
   "metadata": {},
   "outputs": [
    {
     "name": "stdout",
     "output_type": "stream",
     "text": [
      "_________________________________________________________________\n",
      "Layer (type)                 Output Shape              Param #   \n",
      "=================================================================\n",
      "input_2 (InputLayer)         (None, 784)               0         \n",
      "_________________________________________________________________\n",
      "dense_12 (Dense)             (None, 800)               628000    \n",
      "_________________________________________________________________\n",
      "dense_13 (Dense)             (None, 800)               640800    \n",
      "_________________________________________________________________\n",
      "dense_14 (Dense)             (None, 800)               640800    \n",
      "_________________________________________________________________\n",
      "dense_15 (Dense)             (None, 800)               640800    \n",
      "_________________________________________________________________\n",
      "dense_16 (Dense)             (None, 800)               640800    \n",
      "_________________________________________________________________\n",
      "dense_17 (Dense)             (None, 800)               640800    \n",
      "_________________________________________________________________\n",
      "dense_18 (Dense)             (None, 800)               640800    \n",
      "_________________________________________________________________\n",
      "dense_19 (Dense)             (None, 800)               640800    \n",
      "_________________________________________________________________\n",
      "dense_20 (Dense)             (None, 800)               640800    \n",
      "_________________________________________________________________\n",
      "dense_21 (Dense)             (None, 800)               640800    \n",
      "_________________________________________________________________\n",
      "dense_22 (Dense)             (None, 10)                8010      \n",
      "=================================================================\n",
      "Total params: 6,403,210\n",
      "Trainable params: 6,403,210\n",
      "Non-trainable params: 0\n",
      "_________________________________________________________________\n"
     ]
    }
   ],
   "source": [
    "model_2 = tf.keras.models.Model(inputs=p0, outputs=y_mlp_2)\n",
    "model_2.summary()\n",
    "\n",
    "adam = tf.keras.optimizers.Adam(lr=0.001, beta_1=0.9, beta_2=0.999, epsilon=None, decay=0.0, amsgrad=False)\n",
    "model_2.compile(loss='mean_squared_error', optimizer=adam, metrics=['accuracy'])"
   ]
  },
  {
   "cell_type": "markdown",
   "metadata": {},
   "source": [
    "## Fit the Model using Back Propagation (Vanilla SGD)"
   ]
  },
  {
   "cell_type": "markdown",
   "metadata": {},
   "source": [
    "### SGD"
   ]
  },
  {
   "cell_type": "code",
   "execution_count": 7,
   "metadata": {},
   "outputs": [
    {
     "name": "stdout",
     "output_type": "stream",
     "text": [
      "Train on 60000 samples, validate on 10000 samples\n",
      "Epoch 1/30\n",
      " - 7s - loss: 0.0904 - acc: 0.1044 - val_loss: 0.0900 - val_acc: 0.1028\n",
      "Epoch 2/30\n",
      " - 6s - loss: 0.0900 - acc: 0.1119 - val_loss: 0.0900 - val_acc: 0.1135\n",
      "Epoch 3/30\n",
      " - 6s - loss: 0.0900 - acc: 0.1124 - val_loss: 0.0900 - val_acc: 0.1135\n",
      "Epoch 4/30\n",
      " - 6s - loss: 0.0900 - acc: 0.1124 - val_loss: 0.0900 - val_acc: 0.1135\n",
      "Epoch 5/30\n",
      " - 6s - loss: 0.0900 - acc: 0.1124 - val_loss: 0.0900 - val_acc: 0.1135\n",
      "Epoch 6/30\n",
      " - 6s - loss: 0.0900 - acc: 0.1124 - val_loss: 0.0900 - val_acc: 0.1135\n",
      "Epoch 7/30\n",
      " - 6s - loss: 0.0900 - acc: 0.1124 - val_loss: 0.0900 - val_acc: 0.1135\n",
      "Epoch 8/30\n",
      " - 6s - loss: 0.0900 - acc: 0.1124 - val_loss: 0.0900 - val_acc: 0.1135\n",
      "Epoch 9/30\n",
      " - 6s - loss: 0.0900 - acc: 0.1124 - val_loss: 0.0900 - val_acc: 0.1135\n",
      "Epoch 10/30\n",
      " - 6s - loss: 0.0900 - acc: 0.1124 - val_loss: 0.0900 - val_acc: 0.1135\n",
      "Epoch 11/30\n",
      " - 6s - loss: 0.0900 - acc: 0.1124 - val_loss: 0.0900 - val_acc: 0.1135\n",
      "Epoch 12/30\n",
      " - 6s - loss: 0.0900 - acc: 0.1124 - val_loss: 0.0900 - val_acc: 0.1135\n",
      "Epoch 13/30\n",
      " - 6s - loss: 0.0900 - acc: 0.1124 - val_loss: 0.0900 - val_acc: 0.1135\n",
      "Epoch 14/30\n",
      " - 6s - loss: 0.0900 - acc: 0.1124 - val_loss: 0.0900 - val_acc: 0.1135\n",
      "Epoch 15/30\n",
      " - 6s - loss: 0.0900 - acc: 0.1124 - val_loss: 0.0900 - val_acc: 0.1135\n",
      "Epoch 16/30\n",
      " - 6s - loss: 0.0900 - acc: 0.1124 - val_loss: 0.0900 - val_acc: 0.1135\n",
      "Epoch 17/30\n",
      " - 6s - loss: 0.0900 - acc: 0.1124 - val_loss: 0.0900 - val_acc: 0.1135\n",
      "Epoch 18/30\n",
      " - 6s - loss: 0.0900 - acc: 0.1124 - val_loss: 0.0900 - val_acc: 0.1135\n",
      "Epoch 19/30\n",
      " - 6s - loss: 0.0900 - acc: 0.1124 - val_loss: 0.0900 - val_acc: 0.1135\n",
      "Epoch 20/30\n",
      " - 6s - loss: 0.0900 - acc: 0.1124 - val_loss: 0.0900 - val_acc: 0.1135\n",
      "Epoch 21/30\n",
      " - 6s - loss: 0.0900 - acc: 0.1124 - val_loss: 0.0900 - val_acc: 0.1135\n",
      "Epoch 22/30\n",
      " - 6s - loss: 0.0900 - acc: 0.1124 - val_loss: 0.0900 - val_acc: 0.1135\n",
      "Epoch 23/30\n",
      " - 6s - loss: 0.0900 - acc: 0.1124 - val_loss: 0.0900 - val_acc: 0.1135\n",
      "Epoch 24/30\n",
      " - 6s - loss: 0.0900 - acc: 0.1124 - val_loss: 0.0900 - val_acc: 0.1135\n",
      "Epoch 25/30\n",
      " - 6s - loss: 0.0900 - acc: 0.1124 - val_loss: 0.0900 - val_acc: 0.1135\n",
      "Epoch 26/30\n",
      " - 6s - loss: 0.0900 - acc: 0.1124 - val_loss: 0.0900 - val_acc: 0.1135\n",
      "Epoch 27/30\n",
      " - 6s - loss: 0.0900 - acc: 0.1124 - val_loss: 0.0900 - val_acc: 0.1135\n",
      "Epoch 28/30\n",
      " - 6s - loss: 0.0900 - acc: 0.1124 - val_loss: 0.0900 - val_acc: 0.1135\n",
      "Epoch 29/30\n",
      " - 6s - loss: 0.0900 - acc: 0.1124 - val_loss: 0.0900 - val_acc: 0.1135\n",
      "Epoch 30/30\n",
      " - 6s - loss: 0.0900 - acc: 0.1124 - val_loss: 0.0900 - val_acc: 0.1135\n",
      "Test loss: 0.08997017304897309\n",
      "Test accuracy: 0.1135\n"
     ]
    }
   ],
   "source": [
    "history = model.fit(x_train, y_train,\n",
    "                    batch_size=batch_size,\n",
    "                    epochs=epochs,\n",
    "                    verbose=2,\n",
    "                    validation_data=(x_test, y_test),\n",
    "                    shuffle=False)\n",
    "score = model.evaluate(x_test, y_test, verbose=0)\n",
    "print('Test loss:', score[0])\n",
    "print('Test accuracy:', score[1])"
   ]
  },
  {
   "cell_type": "markdown",
   "metadata": {},
   "source": [
    "### Adam"
   ]
  },
  {
   "cell_type": "code",
   "execution_count": 8,
   "metadata": {},
   "outputs": [
    {
     "name": "stdout",
     "output_type": "stream",
     "text": [
      "Train on 60000 samples, validate on 10000 samples\n",
      "Epoch 1/30\n",
      " - 9s - loss: 0.0904 - acc: 0.1032 - val_loss: 0.0901 - val_acc: 0.1032\n",
      "Epoch 2/30\n",
      " - 8s - loss: 0.0901 - acc: 0.1031 - val_loss: 0.0900 - val_acc: 0.1135\n",
      "Epoch 3/30\n",
      " - 8s - loss: 0.0808 - acc: 0.2451 - val_loss: 0.0653 - val_acc: 0.4299\n",
      "Epoch 4/30\n",
      " - 8s - loss: 0.0568 - acc: 0.5416 - val_loss: 0.0519 - val_acc: 0.6137\n",
      "Epoch 5/30\n",
      " - 8s - loss: 0.0480 - acc: 0.6263 - val_loss: 0.0440 - val_acc: 0.6433\n",
      "Epoch 6/30\n",
      " - 8s - loss: 0.0440 - acc: 0.6420 - val_loss: 0.0426 - val_acc: 0.6599\n",
      "Epoch 7/30\n",
      " - 8s - loss: 0.0417 - acc: 0.6810 - val_loss: 0.0380 - val_acc: 0.7290\n",
      "Epoch 8/30\n",
      " - 8s - loss: 0.0360 - acc: 0.7340 - val_loss: 0.0331 - val_acc: 0.7607\n",
      "Epoch 9/30\n",
      " - 8s - loss: 0.0328 - acc: 0.7484 - val_loss: 0.0327 - val_acc: 0.7778\n",
      "Epoch 10/30\n",
      " - 8s - loss: 0.0316 - acc: 0.8039 - val_loss: 0.0296 - val_acc: 0.8234\n",
      "Epoch 11/30\n",
      " - 8s - loss: 0.0284 - acc: 0.8174 - val_loss: 0.0228 - val_acc: 0.8419\n",
      "Epoch 12/30\n",
      " - 8s - loss: 0.0283 - acc: 0.8064 - val_loss: 0.0246 - val_acc: 0.8372\n",
      "Epoch 13/30\n",
      " - 8s - loss: 0.0194 - acc: 0.8942 - val_loss: 0.0168 - val_acc: 0.9157\n",
      "Epoch 14/30\n",
      " - 8s - loss: 0.0126 - acc: 0.9307 - val_loss: 0.0104 - val_acc: 0.9406\n",
      "Epoch 15/30\n",
      " - 8s - loss: 0.0096 - acc: 0.9465 - val_loss: 0.0098 - val_acc: 0.9444\n",
      "Epoch 16/30\n",
      " - 8s - loss: 0.0089 - acc: 0.9507 - val_loss: 0.0094 - val_acc: 0.9497\n",
      "Epoch 17/30\n",
      " - 8s - loss: 0.0080 - acc: 0.9546 - val_loss: 0.0084 - val_acc: 0.9525\n",
      "Epoch 18/30\n",
      " - 8s - loss: 0.0080 - acc: 0.9570 - val_loss: 0.0083 - val_acc: 0.9532\n",
      "Epoch 19/30\n",
      " - 8s - loss: 0.0081 - acc: 0.9567 - val_loss: 0.0114 - val_acc: 0.9398\n",
      "Epoch 20/30\n",
      " - 8s - loss: 0.0070 - acc: 0.9606 - val_loss: 0.0076 - val_acc: 0.9571\n",
      "Epoch 21/30\n",
      " - 8s - loss: 0.0064 - acc: 0.9624 - val_loss: 0.0068 - val_acc: 0.9588\n",
      "Epoch 22/30\n",
      " - 8s - loss: 0.0054 - acc: 0.9679 - val_loss: 0.0064 - val_acc: 0.9619\n",
      "Epoch 23/30\n",
      " - 8s - loss: 0.0050 - acc: 0.9706 - val_loss: 0.0062 - val_acc: 0.9623\n",
      "Epoch 24/30\n",
      " - 8s - loss: 0.0048 - acc: 0.9719 - val_loss: 0.0057 - val_acc: 0.9661\n",
      "Epoch 25/30\n",
      " - 8s - loss: 0.0042 - acc: 0.9753 - val_loss: 0.0055 - val_acc: 0.9672\n",
      "Epoch 26/30\n",
      " - 8s - loss: 0.0045 - acc: 0.9741 - val_loss: 0.0067 - val_acc: 0.9597\n",
      "Epoch 27/30\n",
      " - 8s - loss: 0.0042 - acc: 0.9753 - val_loss: 0.0056 - val_acc: 0.9663\n",
      "Epoch 28/30\n",
      " - 8s - loss: 0.0037 - acc: 0.9780 - val_loss: 0.0058 - val_acc: 0.9632\n",
      "Epoch 29/30\n",
      " - 8s - loss: 0.0039 - acc: 0.9764 - val_loss: 0.0055 - val_acc: 0.9665\n",
      "Epoch 30/30\n",
      " - 8s - loss: 0.0037 - acc: 0.9783 - val_loss: 0.0051 - val_acc: 0.9700\n",
      "Test loss: 0.005068838859698735\n",
      "Test accuracy: 0.97\n"
     ]
    }
   ],
   "source": [
    "history_2 = model_2.fit(x_train, y_train,\n",
    "                    batch_size=batch_size,\n",
    "                    epochs=epochs,\n",
    "                    verbose=2,\n",
    "                    validation_data=(x_test, y_test),\n",
    "                    shuffle=False)\n",
    "score_2 = model_2.evaluate(x_test, y_test, verbose=0)\n",
    "print('Test loss:', score_2[0])\n",
    "print('Test accuracy:', score_2[1])"
   ]
  },
  {
   "cell_type": "markdown",
   "metadata": {},
   "source": [
    "## Loss and Accuracy Plots"
   ]
  },
  {
   "cell_type": "markdown",
   "metadata": {},
   "source": [
    "### SGD"
   ]
  },
  {
   "cell_type": "code",
   "execution_count": 9,
   "metadata": {},
   "outputs": [
    {
     "data": {
      "text/plain": [
       "<matplotlib.legend.Legend at 0x1a376e0eef0>"
      ]
     },
     "execution_count": 9,
     "metadata": {},
     "output_type": "execute_result"
    },
    {
     "data": {
      "image/png": "[encoded data removed]",
      "text/plain": [
       "<Figure size 432x288 with 1 Axes>"
      ]
     },
     "metadata": {},
     "output_type": "display_data"
    },
    {
     "data": {
      "image/png": "[encoded data removed]",
      "text/plain": [
       "<Figure size 432x288 with 1 Axes>"
      ]
     },
     "metadata": {},
     "output_type": "display_data"
    }
   ],
   "source": [
    "# Plot of Losses\n",
    "history_dict = history.history\n",
    "loss_values = history_dict['loss']\n",
    "val_loss_values = history_dict['val_loss']\n",
    "acc_values = history_dict['acc']\n",
    "val_acc_values = history_dict['val_acc']\n",
    "\n",
    "epochs_index = range(1,len(loss_values)+1)\n",
    "fig_loss = plt.figure()\n",
    "plt.plot(epochs_index, loss_values, label='Training loss')\n",
    "plt.plot(epochs_index, val_loss_values, label='Validation loss')\n",
    "plt.title('Ten-layer MLP (SGD)')\n",
    "plt.xlabel('Epochs')\n",
    "plt.ylabel('Loss')\n",
    "plt.legend()\n",
    "\n",
    "\n",
    "# Plot of Accuracies\n",
    "fig_accuracy = plt.figure()\n",
    "plt.plot(epochs_index,acc_values, label='Training accuracy')\n",
    "plt.plot(epochs_index,val_acc_values, label='Validation accuracy')\n",
    "plt.title('Ten-layer MLP (SGD)')\n",
    "plt.xlabel('Epochs')\n",
    "plt.ylabel('Accuracy')\n",
    "plt.legend()"
   ]
  },
  {
   "cell_type": "markdown",
   "metadata": {},
   "source": [
    "### Adam"
   ]
  },
  {
   "cell_type": "code",
   "execution_count": 10,
   "metadata": {},
   "outputs": [
    {
     "data": {
      "text/plain": [
       "<matplotlib.legend.Legend at 0x1a3ad114a20>"
      ]
     },
     "execution_count": 10,
     "metadata": {},
     "output_type": "execute_result"
    },
    {
     "data": {
      "image/png": "[encoded data removed]",
      "text/plain": [
       "<Figure size 432x288 with 1 Axes>"
      ]
     },
     "metadata": {},
     "output_type": "display_data"
    },
    {
     "data": {
      "image/png": "[encoded data removed]",
      "text/plain": [
       "<Figure size 432x288 with 1 Axes>"
      ]
     },
     "metadata": {},
     "output_type": "display_data"
    }
   ],
   "source": [
    "# Plot of Losses\n",
    "history_dict_2 = history_2.history\n",
    "loss_values_2 = history_dict_2['loss']\n",
    "val_loss_values_2 = history_dict_2['val_loss']\n",
    "acc_values_2 = history_dict_2['acc']\n",
    "val_acc_values_2 = history_dict_2['val_acc']\n",
    "\n",
    "epochs_index = range(1,len(loss_values_2)+1)\n",
    "fig_loss_2 = plt.figure()\n",
    "plt.plot(epochs_index, loss_values_2, label='Training loss')\n",
    "plt.plot(epochs_index, val_loss_values_2, label='Validation loss')\n",
    "plt.title('Ten-layer MLP (Adam)')\n",
    "plt.xlabel('Epochs')\n",
    "plt.ylabel('Loss')\n",
    "plt.legend()\n",
    "\n",
    "\n",
    "# Plot of Accuracies\n",
    "fig_accuracy_2 = plt.figure()\n",
    "plt.plot(epochs_index,acc_values_2, label='Training accuracy')\n",
    "plt.plot(epochs_index,val_acc_values_2, label='Validation accuracy')\n",
    "plt.title('Ten-layer MLP (Adam)')\n",
    "plt.xlabel('Epochs')\n",
    "plt.ylabel('Accuracy')\n",
    "plt.legend()"
   ]
  },
  {
   "cell_type": "markdown",
   "metadata": {},
   "source": [
    "## Save the Plots"
   ]
  },
  {
   "cell_type": "code",
   "execution_count": 11,
   "metadata": {},
   "outputs": [],
   "source": [
    "#fig_accuracy_2.savefig('fig_accuracy_2.eps', format='eps', dpi=2000)\n",
    "#fig_accuracy_2.savefig('fig_accuracy_2.pdf', format='pdf', dpi=2000)"
   ]
  }
 ],
 "metadata": {
  "kernelspec": {
   "display_name": "Python 3",
   "language": "python",
   "name": "python3"
  },
  "language_info": {
   "codemirror_mode": {
    "name": "ipython",
    "version": 3
   },
   "file_extension": ".py",
   "mimetype": "text/x-python",
   "name": "python",
   "nbconvert_exporter": "python",
   "pygments_lexer": "ipython3",
   "version": "3.6.5"
  }
 },
 "nbformat": 4,
 "nbformat_minor": 2
}
