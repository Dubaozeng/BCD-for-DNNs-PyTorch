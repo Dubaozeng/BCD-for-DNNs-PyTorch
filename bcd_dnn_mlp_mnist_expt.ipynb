{
 "cells": [
  {
   "cell_type": "markdown",
   "metadata": {},
   "source": [
    "# Reinplementation of Block Coordinate Descent (BCD) Algorithm for Training DNNs (3-layer MLP) for MNIST in PyTorch"
   ]
  },
  {
   "cell_type": "markdown",
   "metadata": {},
   "source": [
    "## Import libraries"
   ]
  },
  {
   "cell_type": "code",
   "execution_count": 1,
   "metadata": {},
   "outputs": [
    {
     "name": "stdout",
     "output_type": "stream",
     "text": [
      "PyTorch Version: 1.0.0\n",
      "Torchvision Version: 0.2.1\n",
      "GPU is available? True\n"
     ]
    }
   ],
   "source": [
    "\"\"\"\n",
    "5 runs of 50 epochs, seed = 10, 20, 30, 40, 50; \n",
    "validation accuracies: 0.9492, 0.9457, 0.9463, 0.9439, 0.9455\n",
    "\"\"\"\n",
    "from __future__ import print_function, division\n",
    "import numpy as np\n",
    "import pandas as pd\n",
    "import torch\n",
    "import torch.nn as nn\n",
    "import torch.nn.functional as F\n",
    "from torch.autograd import Variable\n",
    "import torch.optim as optim\n",
    "import torchvision\n",
    "from torchvision import datasets, models, transforms, utils\n",
    "from torch.utils.data import Dataset, DataLoader\n",
    "import matplotlib.pyplot as plt\n",
    "import time\n",
    "import os\n",
    "import copy\n",
    "\n",
    "print(\"PyTorch Version:\", torch.__version__)\n",
    "print(\"Torchvision Version:\", torchvision.__version__)\n",
    "print(\"GPU is available?\", torch.cuda.is_available())"
   ]
  },
  {
   "cell_type": "markdown",
   "metadata": {},
   "source": [
    "## Read in MNIST dataset"
   ]
  },
  {
   "cell_type": "code",
   "execution_count": 2,
   "metadata": {},
   "outputs": [],
   "source": [
    "dtype = torch.float\n",
    "device = torch.device(\"cuda:0\" if torch.cuda.is_available() else \"cpu\")\n",
    "\n",
    "# Convert to tensor and scale to [0, 1]\n",
    "ts = transforms.Compose([transforms.ToTensor(), transforms.Normalize((0,), (1,))])\n",
    "mnist_trainset = datasets.MNIST('../data', train=True, download=True, transform=ts)\n",
    "mnist_testset = datasets.MNIST(root='../data', train=False, download=True, transform=ts)"
   ]
  },
  {
   "cell_type": "markdown",
   "metadata": {},
   "source": [
    "## Data manipulation"
   ]
  },
  {
   "cell_type": "code",
   "execution_count": 3,
   "metadata": {},
   "outputs": [],
   "source": [
    "# Manipulate train set\n",
    "x_d0 = mnist_trainset[0][0].size()[0]\n",
    "x_d1 = mnist_trainset[0][0].size()[1]\n",
    "x_d2 = mnist_trainset[0][0].size()[2]\n",
    "N = x_d3 = len(mnist_trainset)\n",
    "K = 10\n",
    "x_train = torch.empty((N,x_d0*x_d1*x_d2), device=device)\n",
    "y_train = torch.empty(N, dtype=torch.long)\n",
    "for i in range(N): \n",
    "     x_train[i,:] = torch.reshape(mnist_trainset[i][0], (1, x_d0*x_d1*x_d2))\n",
    "     y_train[i] = mnist_trainset[i][1]\n",
    "x_train = torch.t(x_train)\n",
    "y_one_hot = torch.zeros(N, K).scatter_(1, torch.reshape(y_train, (N, 1)), 1)\n",
    "y_one_hot = torch.t(y_one_hot).to(device=device)\n",
    "y_train = y_train.to(device=device)\n",
    "\n",
    "# Manipulate test set\n",
    "N_test = x_d3_test = len(mnist_testset)\n",
    "x_test = torch.empty((N_test,x_d0*x_d1*x_d2), device=device)\n",
    "y_test = torch.empty(N_test, dtype=torch.long)\n",
    "for i in range(N_test): \n",
    "     x_test[i,:] = torch.reshape(mnist_testset[i][0], (1, x_d0*x_d1*x_d2))\n",
    "     y_test[i] = mnist_testset[i][1]\n",
    "x_test = torch.t(x_test)\n",
    "y_test_one_hot = torch.zeros(N_test, K).scatter_(1, torch.reshape(y_test, (N_test, 1)), 1)\n",
    "y_test_one_hot = torch.t(y_test_one_hot).to(device=device)\n",
    "y_test = y_test.to(device=device)"
   ]
  },
  {
   "cell_type": "markdown",
   "metadata": {},
   "source": [
    "## Main algorithm (Jinshan's Algorithm in Zeng et al (2018))"
   ]
  },
  {
   "cell_type": "markdown",
   "metadata": {},
   "source": [
    "### Parameter initialization"
   ]
  },
  {
   "cell_type": "code",
   "execution_count": 4,
   "metadata": {},
   "outputs": [],
   "source": [
    "seed = 40\n",
    "torch.manual_seed(seed)\n",
    "if torch.cuda.is_available():\n",
    "    torch.manual_seed(seed)\n",
    "d0 = x_d0*x_d1*x_d2\n",
    "d1 = d2 = d3 = 1500\n",
    "d4 = K # Layers: input + 3 hidden + output\n",
    "W1 = 0.01*torch.randn(d1, d0, device=device)\n",
    "b1 = 0.1*torch.ones(d1, 1, device=device)\n",
    "W2 = 0.01*torch.randn(d2, d1, device=device)\n",
    "b2 = 0.1*torch.ones(d2, 1, device=device)\n",
    "W3 = 0.01*torch.randn(d3, d2, device=device)\n",
    "b3 = 0.1*torch.ones(d3, 1, device=device)\n",
    "W4 = 0.01*torch.randn(d4, d3, device=device)\n",
    "b4 = 0.1*torch.ones(d4, 1, device=device)\n",
    "\n",
    "U1 = torch.addmm(b1.repeat(1, N), W1, x_train)\n",
    "V1 = nn.ReLU()(U1)\n",
    "U2 = torch.addmm(b2.repeat(1, N), W2, V1)\n",
    "V2 = nn.ReLU()(U2)\n",
    "U3 = torch.addmm(b3.repeat(1, N), W3, V2)\n",
    "V3 = nn.ReLU()(U3) \n",
    "U4 = torch.addmm(b4.repeat(1, N), W4, V3)\n",
    "V4 = U4\n",
    "\n",
    "gamma = 1\n",
    "gamma1 = gamma2 = gamma3 = gamma4 = gamma\n",
    "\n",
    "rho = 1\n",
    "rho1 = rho2 = rho3 = rho4 = rho\n",
    "\n",
    "\n",
    "alpha = 5\n",
    "alpha1 = alpha2 = alpha3 = alpha4 = alpha5 = alpha6 = alpha7 \\\n",
    "= alpha8 = alpha9 = alpha10 = alpha\n",
    "\n",
    "niter = 50\n",
    "loss1 = np.empty(niter)\n",
    "loss2 = np.empty(niter)\n",
    "accuracy_train = np.empty(niter)\n",
    "accuracy_test = np.empty(niter)\n",
    "time1 = np.empty(niter)"
   ]
  },
  {
   "cell_type": "markdown",
   "metadata": {},
   "source": [
    "### Define functions for updating blocks"
   ]
  },
  {
   "cell_type": "code",
   "execution_count": 5,
   "metadata": {},
   "outputs": [],
   "source": [
    "def updateV(U1,U2,W,b,rho,gamma): \n",
    "    _, d = W.size()\n",
    "    I = torch.eye(d, device=device)\n",
    "    U1 = nn.ReLU()(U1)\n",
    "    _, col_U2 = U2.size()\n",
    "    Vstar = torch.mm(torch.inverse(rho*(torch.mm(torch.t(W),W))+gamma*I), rho*torch.mm(torch.t(W),U2-b.repeat(1,col_U2))+gamma*U1)\n",
    "    return Vstar"
   ]
  },
  {
   "cell_type": "code",
   "execution_count": 6,
   "metadata": {},
   "outputs": [],
   "source": [
    "def updateWb(U, V, W, b, alpha, rho): \n",
    "    d,N = V.size()\n",
    "    I = torch.eye(d, device=device)\n",
    "    _, col_U = U.size()\n",
    "    Wstar = torch.mm(alpha*W+rho*torch.mm(U-b.repeat(1,col_U),torch.t(V)),torch.inverse(alpha*I+rho*(torch.mm(V,torch.t(V)))))\n",
    "    bstar = (alpha*b+rho*torch.sum(U-torch.mm(W,V), dim=1).reshape(b.size()))/(rho*N+alpha)\n",
    "    return Wstar, bstar"
   ]
  },
  {
   "cell_type": "markdown",
   "metadata": {},
   "source": [
    "### Define the proximal operator of the ReLU activation function"
   ]
  },
  {
   "cell_type": "code",
   "execution_count": 7,
   "metadata": {},
   "outputs": [],
   "source": [
    "def relu_prox(a, b, gamma, d, N):\n",
    "    val = torch.empty(d,N, device=device)\n",
    "    x = (a+gamma*b)/(1+gamma)\n",
    "    y = torch.min(b,torch.zeros(d,N, device=device))\n",
    "\n",
    "    val = torch.where(a+gamma*b < 0, y, torch.zeros(d,N, device=device))\n",
    "    val = torch.where(((a+gamma*b >= 0) & (b >=0)) | ((a*(gamma-np.sqrt(gamma*(gamma+1))) <= gamma*b) & (b < 0)), x, val)\n",
    "    val = torch.where((-a <= gamma*b) & (gamma*b <= a*(gamma-np.sqrt(gamma*(gamma+1)))), b, val)\n",
    "    return val"
   ]
  },
  {
   "cell_type": "markdown",
   "metadata": {},
   "source": [
    "### Training algorithm"
   ]
  },
  {
   "cell_type": "code",
   "execution_count": 8,
   "metadata": {},
   "outputs": [
    {
     "name": "stdout",
     "output_type": "stream",
     "text": [
      "Train on 60000 samples, validate on 10000 samples\n",
      "Epoch 1 / 50 \n",
      " - time: 2.048199415206909 - sq_loss: 20286.423828125 - tot_loss: 20315.255833353847 - acc: 0.13381666666666667 - val_acc: 0.1318\n",
      "Epoch 2 / 50 \n",
      " - time: 1.8899121284484863 - sq_loss: 15321.1953125 - tot_loss: 15333.326430269517 - acc: 0.7147833333333333 - val_acc: 0.723\n",
      "Epoch 3 / 50 \n",
      " - time: 1.895658254623413 - sq_loss: 11774.9052734375 - tot_loss: 11782.7634959016 - acc: 0.8732666666666666 - val_acc: 0.8779\n",
      "Epoch 4 / 50 \n",
      " - time: 1.9003705978393555 - sq_loss: 9107.623046875 - tot_loss: 9114.166835594922 - acc: 0.9025666666666666 - val_acc: 0.9066\n",
      "Epoch 5 / 50 \n",
      " - time: 1.9022879600524902 - sq_loss: 7059.787109375 - tot_loss: 7065.728549709544 - acc: 0.9131 - val_acc: 0.9143\n",
      "Epoch 6 / 50 \n",
      " - time: 1.9122953414916992 - sq_loss: 5475.97607421875 - tot_loss: 5481.722796622664 - acc: 0.9197166666666666 - val_acc: 0.9194\n",
      "Epoch 7 / 50 \n",
      " - time: 2.066347360610962 - sq_loss: 4247.99658203125 - tot_loss: 4253.339897958562 - acc: 0.92385 - val_acc: 0.9238\n",
      "Epoch 8 / 50 \n",
      " - time: 2.0772886276245117 - sq_loss: 3295.244873046875 - tot_loss: 3300.5409899950027 - acc: 0.928 - val_acc: 0.9278\n",
      "Epoch 9 / 50 \n",
      " - time: 2.1313648223876953 - sq_loss: 2555.9765625 - tot_loss: 2560.868489332497 - acc: 0.9308166666666666 - val_acc: 0.9303\n",
      "Epoch 10 / 50 \n",
      " - time: 2.151984930038452 - sq_loss: 1982.4171142578125 - tot_loss: 1987.1164524555206 - acc: 0.9341166666666667 - val_acc: 0.9321\n",
      "Epoch 11 / 50 \n",
      " - time: 2.027393341064453 - sq_loss: 1537.486083984375 - tot_loss: 1542.280776258558 - acc: 0.93625 - val_acc: 0.9348\n",
      "Epoch 12 / 50 \n",
      " - time: 2.025909662246704 - sq_loss: 1192.377197265625 - tot_loss: 1196.7209557630122 - acc: 0.93835 - val_acc: 0.9368\n",
      "Epoch 13 / 50 \n",
      " - time: 1.9836673736572266 - sq_loss: 924.717041015625 - tot_loss: 929.4000244922936 - acc: 0.94 - val_acc: 0.9388\n",
      "Epoch 14 / 50 \n",
      " - time: 2.0575103759765625 - sq_loss: 717.1383056640625 - tot_loss: 722.9542279615998 - acc: 0.9420666666666667 - val_acc: 0.9407\n",
      "Epoch 15 / 50 \n",
      " - time: 1.9633827209472656 - sq_loss: 556.159423828125 - tot_loss: 560.5885963886976 - acc: 0.94365 - val_acc: 0.9413\n",
      "Epoch 16 / 50 \n",
      " - time: 2.0240511894226074 - sq_loss: 431.3221740722656 - tot_loss: 435.4561728797853 - acc: 0.94445 - val_acc: 0.943\n",
      "Epoch 17 / 50 \n",
      " - time: 1.983823537826538 - sq_loss: 334.513427734375 - tot_loss: 339.42329306155443 - acc: 0.9458 - val_acc: 0.943\n",
      "Epoch 18 / 50 \n",
      " - time: 1.9093897342681885 - sq_loss: 259.4398498535156 - tot_loss: 263.2498557753861 - acc: 0.9466666666666667 - val_acc: 0.9439\n",
      "Epoch 19 / 50 \n",
      " - time: 1.9240086078643799 - sq_loss: 201.22213745117188 - tot_loss: 205.00519214570522 - acc: 0.9478 - val_acc: 0.9438\n",
      "Epoch 20 / 50 \n",
      " - time: 1.9286179542541504 - sq_loss: 156.07469177246094 - tot_loss: 159.72269743308425 - acc: 0.9483333333333334 - val_acc: 0.9451\n",
      "Epoch 21 / 50 \n",
      " - time: 1.919344186782837 - sq_loss: 121.06202697753906 - tot_loss: 124.85546385124326 - acc: 0.9493166666666667 - val_acc: 0.9459\n",
      "Epoch 22 / 50 \n",
      " - time: 1.923945426940918 - sq_loss: 93.90869903564453 - tot_loss: 97.49829767085612 - acc: 0.9497833333333333 - val_acc: 0.9458\n",
      "Epoch 23 / 50 \n",
      " - time: 1.9155528545379639 - sq_loss: 72.8500747680664 - tot_loss: 76.88765461742878 - acc: 0.9504333333333334 - val_acc: 0.9464\n",
      "Epoch 24 / 50 \n",
      " - time: 1.9297609329223633 - sq_loss: 56.51704406738281 - tot_loss: 60.39970852248371 - acc: 0.9509833333333333 - val_acc: 0.947\n",
      "Epoch 25 / 50 \n",
      " - time: 1.9225642681121826 - sq_loss: 43.84898376464844 - tot_loss: 47.92639542743564 - acc: 0.9517 - val_acc: 0.9465\n",
      "Epoch 26 / 50 \n",
      " - time: 1.9234802722930908 - sq_loss: 34.02302932739258 - tot_loss: 37.62718463782221 - acc: 0.9521333333333334 - val_acc: 0.9469\n",
      "Epoch 27 / 50 \n",
      " - time: 1.9231202602386475 - sq_loss: 26.40119171142578 - tot_loss: 30.03031969256699 - acc: 0.9525 - val_acc: 0.9474\n",
      "Epoch 28 / 50 \n",
      " - time: 1.9119796752929688 - sq_loss: 20.48874855041504 - tot_loss: 23.98542689345777 - acc: 0.9528666666666666 - val_acc: 0.9475\n",
      "Epoch 29 / 50 \n",
      " - time: 1.9149060249328613 - sq_loss: 15.901873588562012 - tot_loss: 19.341799194458872 - acc: 0.9532 - val_acc: 0.9479\n",
      "Epoch 30 / 50 \n",
      " - time: 1.9200165271759033 - sq_loss: 12.343406677246094 - tot_loss: 15.94023716589436 - acc: 0.9533166666666667 - val_acc: 0.9471\n",
      "Epoch 31 / 50 \n",
      " - time: 1.9213383197784424 - sq_loss: 9.582348823547363 - tot_loss: 13.07723309006542 - acc: 0.954 - val_acc: 0.9474\n",
      "Epoch 32 / 50 \n",
      " - time: 1.9484777450561523 - sq_loss: 7.440096378326416 - tot_loss: 11.300622095819563 - acc: 0.9539333333333333 - val_acc: 0.9467\n",
      "Epoch 33 / 50 \n",
      " - time: 1.930436611175537 - sq_loss: 5.777571201324463 - tot_loss: 9.599534923676401 - acc: 0.95445 - val_acc: 0.9475\n",
      "Epoch 34 / 50 \n",
      " - time: 1.9378283023834229 - sq_loss: 4.487327575683594 - tot_loss: 8.042589909397066 - acc: 0.95415 - val_acc: 0.947\n",
      "Epoch 35 / 50 \n",
      " - time: 1.931406021118164 - sq_loss: 3.485767126083374 - tot_loss: 6.666785731445998 - acc: 0.95435 - val_acc: 0.9466\n",
      "Epoch 36 / 50 \n",
      " - time: 1.9388427734375 - sq_loss: 2.7083497047424316 - tot_loss: 6.498393258079886 - acc: 0.9543833333333334 - val_acc: 0.9463\n",
      "Epoch 37 / 50 \n",
      " - time: 1.9123201370239258 - sq_loss: 2.1048216819763184 - tot_loss: 6.314744739793241 - acc: 0.9546 - val_acc: 0.9465\n",
      "Epoch 38 / 50 \n",
      " - time: 1.939476728439331 - sq_loss: 1.6361708641052246 - tot_loss: 5.13390444801189 - acc: 0.9545666666666667 - val_acc: 0.9469\n",
      "Epoch 39 / 50 \n",
      " - time: 1.9159090518951416 - sq_loss: 1.272296667098999 - tot_loss: 4.714561613276601 - acc: 0.9545166666666667 - val_acc: 0.947\n",
      "Epoch 40 / 50 \n",
      " - time: 1.9141647815704346 - sq_loss: 0.9896255135536194 - tot_loss: 5.235138806281611 - acc: 0.95485 - val_acc: 0.9462\n",
      "Epoch 41 / 50 \n",
      " - time: 1.9211070537567139 - sq_loss: 0.7700644135475159 - tot_loss: 4.280116225942038 - acc: 0.9549166666666666 - val_acc: 0.9461\n",
      "Epoch 42 / 50 \n",
      " - time: 1.9144577980041504 - sq_loss: 0.59946608543396 - tot_loss: 3.938017624663189 - acc: 0.9548166666666666 - val_acc: 0.9461\n",
      "Epoch 43 / 50 \n",
      " - time: 1.9543743133544922 - sq_loss: 0.4668845534324646 - tot_loss: 3.4499458639184013 - acc: 0.9547666666666667 - val_acc: 0.946\n",
      "Epoch 44 / 50 \n",
      " - time: 2.736018657684326 - sq_loss: 0.3638189136981964 - tot_loss: 3.644937446573749 - acc: 0.9547666666666667 - val_acc: 0.9452\n",
      "Epoch 45 / 50 \n",
      " - time: 3.0279643535614014 - sq_loss: 0.2836720049381256 - tot_loss: 3.7486055734334514 - acc: 0.9548 - val_acc: 0.9456\n",
      "Epoch 46 / 50 \n",
      " - time: 3.106459140777588 - sq_loss: 0.22133870422840118 - tot_loss: 5.305122142075561 - acc: 0.95475 - val_acc: 0.9448\n",
      "Epoch 47 / 50 \n",
      " - time: 3.0520179271698 - sq_loss: 0.1728452891111374 - tot_loss: 4.659826255287044 - acc: 0.9543666666666667 - val_acc: 0.9455\n",
      "Epoch 48 / 50 \n",
      " - time: 3.043464422225952 - sq_loss: 0.1350969821214676 - tot_loss: 3.597071212134324 - acc: 0.9544833333333334 - val_acc: 0.9448\n",
      "Epoch 49 / 50 \n",
      " - time: 3.091150999069214 - sq_loss: 0.1057085320353508 - tot_loss: 3.2851635885890573 - acc: 0.9543166666666667 - val_acc: 0.945\n",
      "Epoch 50 / 50 \n",
      " - time: 2.9529201984405518 - sq_loss: 0.08281848579645157 - tot_loss: 3.289984852191992 - acc: 0.9541833333333334 - val_acc: 0.9439\n"
     ]
    }
   ],
   "source": [
    "# Iterations\n",
    "print('Train on', N, 'samples, validate on', N_test, 'samples')\n",
    "for k in range(niter):\n",
    "    start = time.time()\n",
    "\n",
    "    # update V4\n",
    "    V4 = (y_one_hot + gamma4*U4 + alpha1*V4)/(1 + gamma4 + alpha1)\n",
    "    \n",
    "    # update U4 \n",
    "    U4 = (gamma4*V4 + rho4*(torch.mm(W4,V3) + b4.repeat(1,N)))/(gamma4 + rho4)\n",
    "\n",
    "    # update W4 and b4\n",
    "    W4, b4 = updateWb(U4,V3,W4,b4,alpha2,rho4)\n",
    "    \n",
    "    # update V3\n",
    "    V3 = updateV(U3,U4,W4,b4,rho4,gamma3)\n",
    "    \n",
    "    # update U3\n",
    "    U3 = relu_prox(V3,(rho3*torch.addmm(b3.repeat(1,N), W3, V2) + alpha3*U3)/(rho3 + alpha3),(rho3 + alpha3)/gamma3,d3,N)\n",
    "    \n",
    "    # update W3 and b3\n",
    "    W3, b3 = updateWb(U3,V2,W3,b3,alpha4,rho3)\n",
    "    \n",
    "    # update V2\n",
    "    V2 = updateV(U2,U3,W3,b3,rho3,gamma2)\n",
    "    \n",
    "    # update U2\n",
    "    U2 = relu_prox(V2,(rho2*torch.addmm(b2.repeat(1,N), W2, V1) + alpha5*U2)/(rho2 + alpha5),(rho2 + alpha5)/gamma2,d2,N)\n",
    "    \n",
    "    # update W2 and b2\n",
    "    W2, b2 = updateWb(U2,V1,W2,b2,alpha6,rho2)\n",
    "\n",
    "    # update V1\n",
    "    V1 = updateV(U1,U2,W2,b2,rho2,gamma1)\n",
    "    \n",
    "    # update U1\n",
    "    U1 = relu_prox(V1,(rho1*torch.addmm(b1.repeat(1,N), W1, x_train) + alpha7*U1)/(rho1 + alpha7),(rho1 + alpha7)/gamma1,d1,N)\n",
    "\n",
    "    # update W1 and b1\n",
    "    W1, b1 = updateWb(U1,x_train,W1,b1,alpha8,rho1)\n",
    "\n",
    "    a1_train = nn.ReLU()(torch.addmm(b1.repeat(1, N), W1, x_train))\n",
    "    a2_train = nn.ReLU()(torch.addmm(b2.repeat(1, N), W2, a1_train))\n",
    "    a3_train = nn.ReLU()(torch.addmm(b3.repeat(1, N), W3, a2_train))\n",
    "    #print(torch.addmm(b4.repeat(1, N), W4, a3_train))\n",
    "    pred = torch.argmax(torch.addmm(b4.repeat(1, N), W4, a3_train), dim=0)\n",
    "\n",
    "    a1_test = nn.ReLU()(torch.addmm(b1.repeat(1, N_test), W1, x_test))\n",
    "    a2_test = nn.ReLU()(torch.addmm(b2.repeat(1, N_test), W2, a1_test))\n",
    "    a3_test = nn.ReLU()(torch.addmm(b3.repeat(1, N_test), W3, a2_test))\n",
    "    pred_test = torch.argmax(torch.addmm(b4.repeat(1, N_test), W4, a3_test), dim=0)\n",
    "    \n",
    "    loss1[k] = gamma4/2*torch.pow(torch.dist(V4,y_one_hot,2),2).cpu().numpy()\n",
    "    loss2[k] = loss1[k] + rho1/2*torch.pow(torch.dist(torch.addmm(b1.repeat(1,N), W1, x_train),U1,2),2).cpu().numpy() \\\n",
    "    +rho2/2*torch.pow(torch.dist(torch.addmm(b2.repeat(1,N), W2, V1),U2,2),2).cpu().numpy() \\\n",
    "    +rho3/2*torch.pow(torch.dist(torch.addmm(b3.repeat(1,N), W3, V2),U3,2),2).cpu().numpy() \\\n",
    "    +rho4/2*torch.pow(torch.dist(torch.addmm(b4.repeat(1,N), W4, V3),U4,2),2).cpu().numpy()\n",
    "    \n",
    "    # compute training accuracy\n",
    "    correct_train = pred == y_train\n",
    "    accuracy_train[k] = np.mean(correct_train.cpu().numpy())\n",
    "    \n",
    "    # compute validation accuracy\n",
    "    correct_test = pred_test == y_test\n",
    "    accuracy_test[k] = np.mean(correct_test.cpu().numpy())\n",
    "    \n",
    "    # compute training time\n",
    "    stop = time.time()\n",
    "    duration = stop - start\n",
    "    time1[k] = duration\n",
    "    \n",
    "    # print results\n",
    "    print('Epoch', k + 1, '/', niter, '\\n', \n",
    "          '-', 'time:', time1[k], '-', 'sq_loss:', loss1[k], '-', 'tot_loss:', loss2[k], \n",
    "          '-', 'acc:', accuracy_train[k], '-', 'val_acc:', accuracy_test[k])"
   ]
  },
  {
   "cell_type": "markdown",
   "metadata": {},
   "source": [
    "### Visualization of training results"
   ]
  },
  {
   "cell_type": "code",
   "execution_count": 9,
   "metadata": {},
   "outputs": [
    {
     "data": {
      "text/plain": [
       "Text(0.5,1,'validation accuracy')"
      ]
     },
     "execution_count": 9,
     "metadata": {},
     "output_type": "execute_result"
    },
    {
     "data": {
      "image/png": "[encoded data removed]",
      "text/plain": [
       "<Figure size 432x288 with 1 Axes>"
      ]
     },
     "metadata": {},
     "output_type": "display_data"
    },
    {
     "data": {
      "image/png": "[encoded data removed]",
      "text/plain": [
       "<Figure size 432x288 with 1 Axes>"
      ]
     },
     "metadata": {},
     "output_type": "display_data"
    }
   ],
   "source": [
    "plt.figure()\n",
    "plt.plot(np.arange(1,niter+1), loss2)\n",
    "plt.title('training loss')\n",
    "\n",
    "plt.figure()\n",
    "plt.plot(np.arange(1,niter+1), accuracy_train)\n",
    "plt.plot(np.arange(1,niter+1), accuracy_test)\n",
    "plt.title('validation accuracy')"
   ]
  }
 ],
 "metadata": {
  "kernelspec": {
   "display_name": "Python 3",
   "language": "python",
   "name": "python3"
  },
  "language_info": {
   "codemirror_mode": {
    "name": "ipython",
    "version": 3
   },
   "file_extension": ".py",
   "mimetype": "text/x-python",
   "name": "python",
   "nbconvert_exporter": "python",
   "pygments_lexer": "ipython3",
   "version": "3.6.6"
  }
 },
 "nbformat": 4,
 "nbformat_minor": 2
}
