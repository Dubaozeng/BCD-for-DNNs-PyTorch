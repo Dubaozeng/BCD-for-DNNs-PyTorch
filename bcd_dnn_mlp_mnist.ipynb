{
 "cells": [
  {
   "cell_type": "markdown",
   "metadata": {},
   "source": [
    "# Reinplementation of Block Coordinate Descent (BCD) Algorithm for Training DNNs (3-layer MLP) for MNIST in PyTorch"
   ]
  },
  {
   "cell_type": "markdown",
   "metadata": {},
   "source": [
    "## Import libraries"
   ]
  },
  {
   "cell_type": "code",
   "execution_count": 1,
   "metadata": {},
   "outputs": [],
   "source": [
    "\"\"\"\n",
    "5 runs, seed = 10, 20, 30, 40, 50; \n",
    "validation accuracies: 0.9541, 0.9551, 0.9558, 0.9553, 0.9564\n",
    "\"\"\"\n",
    "from __future__ import print_function, division\n",
    "import numpy as np\n",
    "import pandas as pd\n",
    "import torch\n",
    "import torch.nn as nn\n",
    "import torch.nn.functional as F\n",
    "from torch.autograd import Variable\n",
    "import torch.optim as optim\n",
    "import torchvision\n",
    "from torchvision import datasets, models, transforms, utils\n",
    "from torch.utils.data import Dataset, DataLoader\n",
    "import matplotlib.pyplot as plt\n",
    "import time\n",
    "import os\n",
    "import copy\n",
    "\n",
    "# print(\"PyTorch Version: \",torch.__version__)\n",
    "# print(\"Torchvision Version: \",torchvision.__version__)"
   ]
  },
  {
   "cell_type": "markdown",
   "metadata": {},
   "source": [
    "## Read in MNIST dataset"
   ]
  },
  {
   "cell_type": "code",
   "execution_count": 2,
   "metadata": {},
   "outputs": [],
   "source": [
    "dtype = torch.float\n",
    "device = torch.device(\"cpu\") # Uncomment this to run on CPU\n",
    "# device = torch.device(\"cuda:0\") \n",
    "\n",
    "# Convert to tensor and scale to [0, 1]\n",
    "ts = transforms.Compose([transforms.ToTensor(), \n",
    "                             transforms.Normalize((0,), (1,))])\n",
    "mnist_trainset = datasets.MNIST('../data', train=True, download=True,\n",
    "                       transform=ts)\n",
    "mnist_testset = datasets.MNIST(root='../data', train=False, download=True, \n",
    "                        transform=ts)"
   ]
  },
  {
   "cell_type": "markdown",
   "metadata": {},
   "source": [
    "## Data manipulation"
   ]
  },
  {
   "cell_type": "code",
   "execution_count": 3,
   "metadata": {},
   "outputs": [],
   "source": [
    "# Manipulate train set\n",
    "x_d1 = mnist_trainset[0][0].size()[1]\n",
    "x_d2 = mnist_trainset[0][0].size()[2]\n",
    "N = x_d3 = len(mnist_trainset)\n",
    "K = 10\n",
    "x_train = torch.empty((N,x_d1*x_d2), device=device)\n",
    "y_train = torch.empty(N, dtype=torch.long)\n",
    "for i in range(N): \n",
    "     x_train[i,:] = torch.reshape(mnist_trainset[i][0], (1,x_d1*x_d2))\n",
    "     y_train[i] = mnist_trainset[i][1]\n",
    "x_train = torch.t(x_train)\n",
    "y_one_hot = torch.zeros(N, K).scatter_(1, torch.reshape(y_train,(N,1)), 1)\n",
    "y_one_hot = torch.t(y_one_hot).to(device=device)\n",
    "\n",
    "# Manipulate test set\n",
    "x_d1_test = mnist_testset[0][0].size()[1]\n",
    "x_d2_test = mnist_testset[0][0].size()[2]\n",
    "N_test = x_d3_test = len(mnist_testset)\n",
    "x_test = torch.empty((N_test,x_d1*x_d2), device=device)\n",
    "y_test = torch.empty(N_test, dtype=torch.long)\n",
    "for i in range(N_test): \n",
    "     x_test[i,:] = torch.reshape(mnist_testset[i][0], (1,x_d1*x_d2))\n",
    "     y_test[i] = mnist_testset[i][1]\n",
    "x_test = torch.t(x_test)\n",
    "y_test_one_hot = torch.zeros(N_test, K).scatter_(1, torch.reshape(y_test,(N_test,1)), 1)\n",
    "y_test_one_hot = torch.t(y_test_one_hot).to(device=device)"
   ]
  },
  {
   "cell_type": "markdown",
   "metadata": {},
   "source": [
    "## Main algorithm (Jinshan's Algorithm in Zeng et al (2018))"
   ]
  },
  {
   "cell_type": "markdown",
   "metadata": {},
   "source": [
    "### Parameter initialization"
   ]
  },
  {
   "cell_type": "code",
   "execution_count": 4,
   "metadata": {},
   "outputs": [],
   "source": [
    "torch.manual_seed(50)\n",
    "d0 = x_d1*x_d2\n",
    "d1 = d2 = d3 = 2048\n",
    "d4 = K # Layers: input + 3 hidden + output\n",
    "W1 = 0.01*torch.randn(d1, d0, device=device)\n",
    "b1 = 0.1*torch.ones(d1, 1, device=device)\n",
    "W2 = 0.01*torch.randn(d2, d1, device=device)\n",
    "b2 = 0.1*torch.ones(d2, 1, device=device)\n",
    "W3 = 0.01*torch.randn(d3, d2, device=device)\n",
    "b3 = 0.1*torch.ones(d3, 1, device=device)\n",
    "W4 = 0.01*torch.randn(d4, d3, device=device)\n",
    "b4 = 0.1*torch.ones(d4, 1, device=device)\n",
    "\n",
    "U1 = torch.addmm(b1.repeat(1, N), W1, x_train)\n",
    "V1 = nn.ReLU()(U1)\n",
    "U2 = torch.addmm(b2.repeat(1, N), W2, V1)\n",
    "V2 = nn.ReLU()(U2)\n",
    "U3 = torch.addmm(b3.repeat(1, N), W3, V2)\n",
    "V3 = nn.ReLU()(U3) \n",
    "U4 = torch.addmm(b4.repeat(1, N), W4, V3)\n",
    "V4 = U4\n",
    "\n",
    "gamma = 1\n",
    "gamma1 = gamma2 = gamma3 = gamma4 = gamma\n",
    "\n",
    "rho = gamma\n",
    "rho1 = rho2 = rho3 = rho4 = rho\n",
    "\n",
    "\n",
    "alpha = 5\n",
    "alpha1 = alpha2 = alpha3 = alpha4 = alpha5 = alpha6 = alpha7 \\\n",
    "= alpha8 = alpha9 = alpha10 = alpha\n",
    "\n",
    "niter = 30\n",
    "loss1 = np.empty(niter)\n",
    "loss2 = np.empty(niter)\n",
    "accuracy_train = np.empty(niter)\n",
    "accuracy_test = np.empty(niter)\n",
    "time1 = np.empty(niter)"
   ]
  },
  {
   "cell_type": "markdown",
   "metadata": {},
   "source": [
    "### Define functions for updating blocks"
   ]
  },
  {
   "cell_type": "code",
   "execution_count": 5,
   "metadata": {},
   "outputs": [],
   "source": [
    "def updateV_js(U1,U2,W,b,rho,gamma): \n",
    "    _, d = W.size()\n",
    "    I = torch.eye(d, device=device)\n",
    "    U1 = nn.ReLU()(U1)\n",
    "    _, col_U2 = U2.size()\n",
    "    Vstar = torch.mm(torch.inverse(rho*(torch.mm(torch.t(W),W))+gamma*I), rho*torch.mm(torch.t(W),U2-b.repeat(1,col_U2))+gamma*U1)\n",
    "    return Vstar"
   ]
  },
  {
   "cell_type": "code",
   "execution_count": 6,
   "metadata": {},
   "outputs": [],
   "source": [
    "def updateWb_js(U, V, W, b, alpha, rho): \n",
    "    d,N = V.size()\n",
    "    I = torch.eye(d, device=device)\n",
    "    _, col_U = U.size()\n",
    "    Wstar = torch.mm(alpha*W+rho*torch.mm(U-b.repeat(1,col_U),torch.t(V)),torch.inverse(alpha*I+rho*(torch.mm(V,torch.t(V)))))\n",
    "    bstar = (alpha*b+rho*torch.sum(U-torch.mm(W,V), dim=1).reshape(b.size()))/(rho*N+alpha)\n",
    "    return Wstar, bstar"
   ]
  },
  {
   "cell_type": "markdown",
   "metadata": {},
   "source": [
    "### Define the proximal operator of the ReLU activation function"
   ]
  },
  {
   "cell_type": "code",
   "execution_count": 7,
   "metadata": {},
   "outputs": [],
   "source": [
    "def relu_prox(a, b, gamma, d, N):\n",
    "    val = torch.empty(d,N, device=device)\n",
    "    x = (a+gamma*b)/(1+gamma)\n",
    "    y = torch.min(b,torch.zeros(d,N, device=device))\n",
    "\n",
    "    val = torch.where(a+gamma*b < 0, y, torch.zeros(d,N, device=device))\n",
    "    val = torch.where(((a+gamma*b >= 0) & (b >=0)) | ((a*(gamma-np.sqrt(gamma*(gamma+1))) <= gamma*b) & (b < 0)), x, val)\n",
    "    val = torch.where((-a <= gamma*b) & (gamma*b <= a*(gamma-np.sqrt(gamma*(gamma+1)))), b, val)\n",
    "    return val"
   ]
  },
  {
   "cell_type": "markdown",
   "metadata": {},
   "source": [
    "### Training algorithm"
   ]
  },
  {
   "cell_type": "code",
   "execution_count": 8,
   "metadata": {},
   "outputs": [
    {
     "name": "stdout",
     "output_type": "stream",
     "text": [
      "Train on 60000 samples, validate on 10000 samples\n",
      "Epoch 1 / 30 \n",
      " - time: 63.15632462501526 - sq_loss: 20131.158203125 - tot_loss: 20153.119740101974 - acc: 0.5842166666666667 - val_acc: 0.5816\n",
      "Epoch 2 / 30 \n",
      " - time: 64.48930048942566 - sq_loss: 15162.9033203125 - tot_loss: 15172.447250099853 - acc: 0.8469166666666667 - val_acc: 0.8459\n",
      "Epoch 3 / 30 \n",
      " - time: 70.73325085639954 - sq_loss: 11660.166015625 - tot_loss: 11666.232872935943 - acc: 0.9019833333333334 - val_acc: 0.9048\n",
      "Epoch 4 / 30 \n",
      " - time: 66.16476559638977 - sq_loss: 9017.4794921875 - tot_loss: 9022.219353240915 - acc: 0.9200333333333334 - val_acc: 0.9198\n",
      "Epoch 5 / 30 \n",
      " - time: 64.90393686294556 - sq_loss: 6977.7626953125 - tot_loss: 6984.065168727189 - acc: 0.9291333333333334 - val_acc: 0.9281\n",
      "Epoch 6 / 30 \n",
      " - time: 63.93915915489197 - sq_loss: 5419.50830078125 - tot_loss: 5424.001744959503 - acc: 0.9338833333333333 - val_acc: 0.9335\n",
      "Epoch 7 / 30 \n",
      " - time: 63.252880573272705 - sq_loss: 4197.98291015625 - tot_loss: 4203.408054061234 - acc: 0.9380666666666667 - val_acc: 0.9384\n",
      "Epoch 8 / 30 \n",
      " - time: 63.815290212631226 - sq_loss: 3257.245361328125 - tot_loss: 3261.3149085035548 - acc: 0.9412 - val_acc: 0.9395\n",
      "Epoch 9 / 30 \n",
      " - time: 64.16407537460327 - sq_loss: 2530.836181640625 - tot_loss: 2534.642513083294 - acc: 0.9439833333333333 - val_acc: 0.9418\n",
      "Epoch 10 / 30 \n",
      " - time: 66.7871835231781 - sq_loss: 1958.2674560546875 - tot_loss: 1961.9273851457983 - acc: 0.9462166666666667 - val_acc: 0.9435\n",
      "Epoch 11 / 30 \n",
      " - time: 67.4346752166748 - sq_loss: 1520.2000732421875 - tot_loss: 1524.1200939193368 - acc: 0.9482333333333334 - val_acc: 0.9446\n",
      "Epoch 12 / 30 \n",
      " - time: 64.80468964576721 - sq_loss: 1180.431640625 - tot_loss: 1184.1284234710038 - acc: 0.9502833333333334 - val_acc: 0.9454\n",
      "Epoch 13 / 30 \n",
      " - time: 63.304046630859375 - sq_loss: 913.5596313476562 - tot_loss: 917.0244833156466 - acc: 0.9519 - val_acc: 0.9469\n",
      "Epoch 14 / 30 \n",
      " - time: 63.24385213851929 - sq_loss: 709.2149658203125 - tot_loss: 712.4112855792046 - acc: 0.9534833333333333 - val_acc: 0.9485\n",
      "Epoch 15 / 30 \n",
      " - time: 63.23803782463074 - sq_loss: 550.2128295898438 - tot_loss: 553.8654352463782 - acc: 0.9548 - val_acc: 0.9498\n",
      "Epoch 16 / 30 \n",
      " - time: 63.85797691345215 - sq_loss: 426.2735290527344 - tot_loss: 429.9393789358437 - acc: 0.956 - val_acc: 0.9506\n",
      "Epoch 17 / 30 \n",
      " - time: 68.13866639137268 - sq_loss: 331.0276794433594 - tot_loss: 334.3836557865143 - acc: 0.9566 - val_acc: 0.9512\n",
      "Epoch 18 / 30 \n",
      " - time: 65.138827085495 - sq_loss: 256.45361328125 - tot_loss: 259.58827410265803 - acc: 0.9576 - val_acc: 0.9517\n",
      "Epoch 19 / 30 \n",
      " - time: 63.65900754928589 - sq_loss: 198.9855499267578 - tot_loss: 201.8544980622828 - acc: 0.9583333333333334 - val_acc: 0.9529\n",
      "Epoch 20 / 30 \n",
      " - time: 64.46108770370483 - sq_loss: 154.54469299316406 - tot_loss: 157.39510209485888 - acc: 0.95925 - val_acc: 0.9535\n",
      "Epoch 21 / 30 \n",
      " - time: 63.19001746177673 - sq_loss: 119.7060317993164 - tot_loss: 123.07049903459847 - acc: 0.9596833333333333 - val_acc: 0.9541\n",
      "Epoch 22 / 30 \n",
      " - time: 63.20848870277405 - sq_loss: 92.91520690917969 - tot_loss: 96.60481747612357 - acc: 0.9605833333333333 - val_acc: 0.9541\n",
      "Epoch 23 / 30 \n",
      " - time: 63.929826974868774 - sq_loss: 72.1488265991211 - tot_loss: 75.50542926415801 - acc: 0.9607333333333333 - val_acc: 0.9542\n",
      "Epoch 24 / 30 \n",
      " - time: 63.13680863380432 - sq_loss: 55.91535186767578 - tot_loss: 58.73839760757983 - acc: 0.9615833333333333 - val_acc: 0.955\n",
      "Epoch 25 / 30 \n",
      " - time: 64.40865540504456 - sq_loss: 43.419822692871094 - tot_loss: 45.93652200978249 - acc: 0.9618 - val_acc: 0.955\n",
      "Epoch 26 / 30 \n",
      " - time: 63.778149366378784 - sq_loss: 33.696319580078125 - tot_loss: 37.25523943081498 - acc: 0.9623333333333334 - val_acc: 0.9548\n",
      "Epoch 27 / 30 \n",
      " - time: 63.43364977836609 - sq_loss: 26.14389419555664 - tot_loss: 28.918772308155894 - acc: 0.9627333333333333 - val_acc: 0.9549\n",
      "Epoch 28 / 30 \n",
      " - time: 63.21438980102539 - sq_loss: 20.3102970123291 - tot_loss: 23.51432328298688 - acc: 0.9633333333333334 - val_acc: 0.9557\n",
      "Epoch 29 / 30 \n",
      " - time: 66.83371329307556 - sq_loss: 15.755707740783691 - tot_loss: 19.28920467849821 - acc: 0.9630666666666666 - val_acc: 0.956\n",
      "Epoch 30 / 30 \n",
      " - time: 66.48925828933716 - sq_loss: 12.236991882324219 - tot_loss: 15.04707515379414 - acc: 0.9633333333333334 - val_acc: 0.9564\n"
     ]
    }
   ],
   "source": [
    "# Iterations\n",
    "print('Train on', N, 'samples, validate on', N_test, 'samples')\n",
    "for k in range(niter):\n",
    "    start = time.time()\n",
    "\n",
    "    # update V4\n",
    "    V4 = (y_one_hot + gamma4*U4 + alpha1*V4)/(1 + gamma4 + alpha1)\n",
    "    \n",
    "    # update U4 \n",
    "    U4 = (gamma4*V4 + rho4*(torch.mm(W4,V3) + b4.repeat(1,N)))/(gamma4 + rho4)\n",
    "\n",
    "    # update W4 and b4\n",
    "    W4, b4 = updateWb_js(U4,V3,W4,b4,alpha2,rho4)\n",
    "    \n",
    "    # update V3\n",
    "    V3 = updateV_js(U3,U4,W4,b4,rho4,gamma3)\n",
    "    \n",
    "    # update U3\n",
    "    U3 = relu_prox(V3,(rho3*torch.addmm(b3.repeat(1,N), W3, V2) + alpha3*U3)/(rho3 + alpha3),(rho3 + alpha3)/gamma3,d3,N)\n",
    "    \n",
    "    # update W3 and b3\n",
    "    W3, b3 = updateWb_js(U3,V2,W3,b3,alpha4,rho3)\n",
    "    \n",
    "    # update V2\n",
    "    V2 = updateV_js(U2,U3,W3,b3,rho3,gamma2)\n",
    "    \n",
    "    # update U2\n",
    "    U2 = relu_prox(V2,(rho2*torch.addmm(b2.repeat(1,N), W2, V1) + alpha5*U2)/(rho2 + alpha5),(rho2 + alpha5)/gamma2,d2,N)\n",
    "    \n",
    "    # update W2 and b2\n",
    "    W2, b2 = updateWb_js(U2,V1,W2,b2,alpha6,rho2)\n",
    "\n",
    "    # update V1\n",
    "    V1 = updateV_js(U1,U2,W2,b2,rho2,gamma1)\n",
    "    \n",
    "    # update U1\n",
    "    U1 = relu_prox(V1,(rho1*torch.addmm(b1.repeat(1,N), W1, x_train) + alpha7*U1)/(rho1 + alpha7),(rho1 + alpha7)/gamma1,d1,N)\n",
    "\n",
    "    # update W1 and b1\n",
    "    W1, b1 = updateWb_js(U1,x_train,W1,b1,alpha8,rho1)\n",
    "\n",
    "    a1_train = nn.ReLU()(torch.addmm(b1.repeat(1, N), W1, x_train))\n",
    "    a2_train = nn.ReLU()(torch.addmm(b2.repeat(1, N), W2, a1_train))\n",
    "    a3_train = nn.ReLU()(torch.addmm(b3.repeat(1, N), W3, a2_train))\n",
    "    pred = torch.argmax(torch.addmm(b4.repeat(1, N), W4, a3_train), dim=0)\n",
    "\n",
    "    a1_test = nn.ReLU()(torch.addmm(b1.repeat(1, N_test), W1, x_test))\n",
    "    a2_test = nn.ReLU()(torch.addmm(b2.repeat(1, N_test), W2, a1_test))\n",
    "    a3_test = nn.ReLU()(torch.addmm(b3.repeat(1, N_test), W3, a2_test))\n",
    "    pred_test = torch.argmax(torch.addmm(b4.repeat(1, N_test), W4, a3_test), dim=0)\n",
    "    \n",
    "    loss1[k] = gamma4/2*torch.pow(torch.dist(V4,y_one_hot,2),2).cpu().numpy()\n",
    "    loss2[k] = loss1[k] + rho1/2*torch.pow(torch.dist(torch.addmm(b1.repeat(1,N), W1, x_train),U1,2),2).cpu().numpy() \\\n",
    "    +rho2/2*torch.pow(torch.dist(torch.addmm(b2.repeat(1,N), W2, V1),U2,2),2).cpu().numpy() \\\n",
    "    +rho3/2*torch.pow(torch.dist(torch.addmm(b3.repeat(1,N), W3, V2),U3,2),2).cpu().numpy() \\\n",
    "    +rho4/2*torch.pow(torch.dist(torch.addmm(b4.repeat(1,N), W4, V3),U4,2),2).cpu().numpy()\n",
    "    \n",
    "    # compute training accuracy\n",
    "    correct_train = pred == y_train\n",
    "    accuracy_train[k] = np.mean(correct_train.cpu().numpy())\n",
    "    \n",
    "    # compute validation accuracy\n",
    "    correct_test = pred_test == y_test\n",
    "    accuracy_test[k] = np.mean(correct_test.cpu().numpy())\n",
    "    \n",
    "    # compute training time\n",
    "    stop = time.time()\n",
    "    duration = stop - start\n",
    "    time1[k] = duration\n",
    "    \n",
    "    # print results\n",
    "    print('Epoch', k + 1, '/', niter, '\\n', \n",
    "          '-', 'time:', time1[k], '-', 'sq_loss:', loss1[k], '-', 'tot_loss:', loss2[k], \n",
    "          '-', 'acc:', accuracy_train[k], '-', 'val_acc:', accuracy_test[k])"
   ]
  },
  {
   "cell_type": "markdown",
   "metadata": {},
   "source": [
    "### Visualization of training results"
   ]
  },
  {
   "cell_type": "code",
   "execution_count": 9,
   "metadata": {},
   "outputs": [
    {
     "data": {
      "text/plain": [
       "Text(0.5,1,'validation accuracy')"
      ]
     },
     "execution_count": 9,
     "metadata": {},
     "output_type": "execute_result"
    },
    {
     "data": {
      "image/png": "[encoded data removed]",
      "text/plain": [
       "<Figure size 432x288 with 1 Axes>"
      ]
     },
     "metadata": {},
     "output_type": "display_data"
    },
    {
     "data": {
      "image/png": "[encoded data removed]",
      "text/plain": [
       "<Figure size 432x288 with 1 Axes>"
      ]
     },
     "metadata": {},
     "output_type": "display_data"
    }
   ],
   "source": [
    "plt.figure()\n",
    "plt.plot(np.arange(1,niter+1), loss2)\n",
    "plt.title('training loss')\n",
    "\n",
    "plt.figure()\n",
    "plt.plot(np.arange(1,niter+1), accuracy_test)\n",
    "plt.title('validation accuracy')"
   ]
  }
 ],
 "metadata": {
  "kernelspec": {
   "display_name": "Python 3",
   "language": "python",
   "name": "python3"
  },
  "language_info": {
   "codemirror_mode": {
    "name": "ipython",
    "version": 3
   },
   "file_extension": ".py",
   "mimetype": "text/x-python",
   "name": "python",
   "nbconvert_exporter": "python",
   "pygments_lexer": "ipython3",
   "version": "3.6.6"
  }
 },
 "nbformat": 4,
 "nbformat_minor": 2
}
