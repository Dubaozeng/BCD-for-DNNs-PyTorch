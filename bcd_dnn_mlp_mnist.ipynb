{
 "cells": [
  {
   "cell_type": "markdown",
   "metadata": {},
   "source": [
    "# Reinplementation of Block Coordinate Descent (BCD) Algorithm for Training DNNs (3-layer MLP) for MNIST in PyTorch"
   ]
  },
  {
   "cell_type": "markdown",
   "metadata": {},
   "source": [
    "## Import libraries"
   ]
  },
  {
   "cell_type": "code",
   "execution_count": 1,
   "metadata": {},
   "outputs": [],
   "source": [
    "\"\"\"\n",
    "5 runs, seed = 10, 20, 30, 40, 50; \n",
    "validation accuracies: 0.9541, 0.9551, 0.9558, 0.9553, 0.9564\n",
    "\"\"\"\n",
    "from __future__ import print_function, division\n",
    "import numpy as np\n",
    "import pandas as pd\n",
    "import torch\n",
    "import torch.nn as nn\n",
    "import torch.nn.functional as F\n",
    "from torch.autograd import Variable\n",
    "import torch.optim as optim\n",
    "import torchvision\n",
    "from torchvision import datasets, models, transforms, utils\n",
    "from torch.utils.data import Dataset, DataLoader\n",
    "import matplotlib.pyplot as plt\n",
    "import time\n",
    "import os\n",
    "import copy\n",
    "\n",
    "# print(\"PyTorch Version: \",torch.__version__)\n",
    "# print(\"Torchvision Version: \",torchvision.__version__)"
   ]
  },
  {
   "cell_type": "markdown",
   "metadata": {},
   "source": [
    "## Read in MNIST dataset"
   ]
  },
  {
   "cell_type": "code",
   "execution_count": 2,
   "metadata": {},
   "outputs": [],
   "source": [
    "dtype = torch.float\n",
    "device = torch.device(\"cpu\") # Uncomment this to run on CPU\n",
    "# device = torch.device(\"cuda:0\") \n",
    "\n",
    "ts = transforms.Compose([transforms.ToTensor(), # Convert to tensor and scale to [0, 1]\n",
    "                             transforms.Normalize((0,), (1,))])\n",
    "mnist_trainset = datasets.MNIST('../data', train=True, download=True,\n",
    "                       transform=ts)\n",
    "mnist_testset = datasets.MNIST(root='../data', train=False, download=True, \n",
    "                        transform=ts)"
   ]
  },
  {
   "cell_type": "markdown",
   "metadata": {},
   "source": [
    "## Data manipulation"
   ]
  },
  {
   "cell_type": "code",
   "execution_count": 3,
   "metadata": {},
   "outputs": [],
   "source": [
    "# Manipulate train set\n",
    "x_d1 = mnist_trainset[0][0].size()[1]\n",
    "x_d2 = mnist_trainset[0][0].size()[2]\n",
    "N = x_d3 = len(mnist_trainset)\n",
    "K = 10\n",
    "x_train = torch.empty((N,x_d1*x_d2), device=device)\n",
    "y_train = torch.empty(N, dtype=torch.long)\n",
    "for i in range(N): \n",
    "     x_train[i,:] = torch.reshape(mnist_trainset[i][0], (1,x_d1*x_d2))\n",
    "     y_train[i] = mnist_trainset[i][1]\n",
    "x_train = torch.t(x_train)\n",
    "y_one_hot = torch.zeros(N, K).scatter_(1, torch.reshape(y_train,(N,1)), 1)\n",
    "y_one_hot = torch.t(y_one_hot).to(device=device)\n",
    "\n",
    "# Manipulate test set\n",
    "x_d1_test = mnist_testset[0][0].size()[1]\n",
    "x_d2_test = mnist_testset[0][0].size()[2]\n",
    "N_test = x_d3_test = len(mnist_testset)\n",
    "x_test = torch.empty((10000,784), device=device)\n",
    "y_test = torch.empty(10000, dtype=torch.long)\n",
    "for i in range(10000): \n",
    "     x_test[i,:] = torch.reshape(mnist_testset[i][0], (1,28*28))\n",
    "     y_test[i] = mnist_testset[i][1]\n",
    "x_test = torch.t(x_test)\n",
    "y_test_one_hot = torch.zeros(N_test, K).scatter_(1, torch.reshape(y_test,(N_test,1)), 1)\n",
    "y_test_one_hot = torch.t(y_test_one_hot).to(device=device)"
   ]
  },
  {
   "cell_type": "markdown",
   "metadata": {},
   "source": [
    "## Main algorithm (Jinshan's Algorithm in Zeng et al (2018))"
   ]
  },
  {
   "cell_type": "markdown",
   "metadata": {},
   "source": [
    "### Parameter initialization"
   ]
  },
  {
   "cell_type": "code",
   "execution_count": 4,
   "metadata": {},
   "outputs": [],
   "source": [
    "torch.manual_seed(50)\n",
    "d0 = x_d1*x_d2\n",
    "d1 = d2 = d3 = 2048\n",
    "d4 = K # Layers: input + 3 hidden + output\n",
    "W1 = 0.01*torch.randn(d1, d0, device=device)\n",
    "b1 = 0.1*torch.ones(d1, 1, device=device)\n",
    "W2 = 0.01*torch.randn(d2, d1, device=device)\n",
    "b2 = 0.1*torch.ones(d2, 1, device=device)\n",
    "W3 = 0.01*torch.randn(d3, d2, device=device)\n",
    "b3 = 0.1*torch.ones(d3, 1, device=device)\n",
    "W4 = 0.01*torch.randn(d4, d3, device=device)\n",
    "b4 = 0.1*torch.ones(d4, 1, device=device)\n",
    "\n",
    "U1 = torch.addmm(b1.repeat(1, N), W1, x_train)\n",
    "V1 = nn.ReLU()(U1)\n",
    "U2 = torch.addmm(b2.repeat(1, N), W2, V1)\n",
    "V2 = nn.ReLU()(U2)\n",
    "U3 = torch.addmm(b3.repeat(1, N), W3, V2)\n",
    "V3 = nn.ReLU()(U3) \n",
    "U4 = torch.addmm(b4.repeat(1, N), W4, V3)\n",
    "V4 = U4\n",
    "\n",
    "gamma = 1\n",
    "gamma1 = gamma2 = gamma3 = gamma4 = gamma\n",
    "\n",
    "rho = gamma\n",
    "rho1 = rho2 = rho3 = rho4 = rho\n",
    "\n",
    "\n",
    "alpha = 5\n",
    "alpha1 = alpha2 = alpha3 = alpha4 = alpha5 = alpha6 = alpha7 \\\n",
    "= alpha8 = alpha9 = alpha10 = alpha\n",
    "\n",
    "niter = 30\n",
    "loss1 = np.empty(niter)\n",
    "loss2 = np.empty(niter)\n",
    "layer1 = np.empty(niter)\n",
    "layer2 = np.empty(niter)\n",
    "layer3 = np.empty(niter)\n",
    "layer4 = np.empty(niter)\n",
    "layer11 = np.empty(niter)\n",
    "layer21 = np.empty(niter)\n",
    "layer31 = np.empty(niter)\n",
    "layer41 = np.empty(niter)\n",
    "accuracy_train = np.empty(niter)\n",
    "accuracy_test = np.empty(niter)\n",
    "time1 = np.empty(niter)"
   ]
  },
  {
   "cell_type": "markdown",
   "metadata": {},
   "source": [
    "### Define functions for updating blocks"
   ]
  },
  {
   "cell_type": "code",
   "execution_count": 5,
   "metadata": {},
   "outputs": [],
   "source": [
    "def updateV_js(U1,U2,W,b,rho,gamma): \n",
    "    _, d = W.size()\n",
    "    I = torch.eye(d, device=device)\n",
    "    U1 = nn.ReLU()(U1)\n",
    "    _, col_U2 = U2.size()\n",
    "    Vstar = torch.mm(torch.inverse(rho*(torch.mm(torch.t(W),W))+gamma*I), rho*torch.mm(torch.t(W),U2-b.repeat(1,col_U2))+gamma*U1)\n",
    "    return Vstar"
   ]
  },
  {
   "cell_type": "code",
   "execution_count": 6,
   "metadata": {},
   "outputs": [],
   "source": [
    "def updateWb_js(U, V, W, b, alpha, rho): \n",
    "    d,N = V.size()\n",
    "    I = torch.eye(d, device=device)\n",
    "    _, col_U = U.size()\n",
    "    Wstar = torch.mm(alpha*W+rho*torch.mm(U-b.repeat(1,col_U),torch.t(V)),torch.inverse(alpha*I+rho*(torch.mm(V,torch.t(V)))))\n",
    "    bstar = (alpha*b+rho*torch.sum(U-torch.mm(W,V), dim=1).reshape(b.size()))/(rho*N+alpha)\n",
    "    return Wstar, bstar"
   ]
  },
  {
   "cell_type": "markdown",
   "metadata": {},
   "source": [
    "### Define the proximal operator of the ReLU activation function"
   ]
  },
  {
   "cell_type": "code",
   "execution_count": 7,
   "metadata": {},
   "outputs": [],
   "source": [
    "def relu_prox(a, b, gamma, d, N):\n",
    "    val = torch.empty(d,N, device=device)\n",
    "    x = (a+gamma*b)/(1+gamma)\n",
    "    y = torch.min(b,torch.zeros(d,N, device=device))\n",
    "\n",
    "    val = torch.where(a+gamma*b < 0, y, torch.zeros(d,N, device=device))\n",
    "    val = torch.where(((a+gamma*b >= 0) & (b >=0)) | ((a*(gamma-np.sqrt(gamma*(gamma+1))) <= gamma*b) & (b < 0)), x, val)\n",
    "    val = torch.where((-a <= gamma*b) & (gamma*b <= a*(gamma-np.sqrt(gamma*(gamma+1)))), b, val)\n",
    "    return val"
   ]
  },
  {
   "cell_type": "markdown",
   "metadata": {},
   "source": [
    "### Training algorithm"
   ]
  },
  {
   "cell_type": "code",
   "execution_count": 8,
   "metadata": {},
   "outputs": [
    {
     "name": "stdout",
     "output_type": "stream",
     "text": [
      "Epoch: 0 , squared loss: 20131.158203125 , total loss: 20153.119740101974 , training accuracy: 0.5842166666666667 , validation accuracy: 0.5816 , time: 65.0657057762146\n",
      "Epoch: 1 , squared loss: 15162.9033203125 , total loss: 15172.447250099853 , training accuracy: 0.8469166666666667 , validation accuracy: 0.8459 , time: 64.8881733417511\n",
      "Epoch: 2 , squared loss: 11660.166015625 , total loss: 11666.232872935943 , training accuracy: 0.9019833333333334 , validation accuracy: 0.9048 , time: 64.60323882102966\n",
      "Epoch: 3 , squared loss: 9017.4794921875 , total loss: 9022.219353240915 , training accuracy: 0.9200333333333334 , validation accuracy: 0.9198 , time: 68.33290982246399\n",
      "Epoch: 4 , squared loss: 6977.7626953125 , total loss: 6984.065168727189 , training accuracy: 0.9291333333333334 , validation accuracy: 0.9281 , time: 68.93849778175354\n",
      "Epoch: 5 , squared loss: 5419.50830078125 , total loss: 5424.001744959503 , training accuracy: 0.9338833333333333 , validation accuracy: 0.9335 , time: 65.00857067108154\n",
      "Epoch: 6 , squared loss: 4197.98291015625 , total loss: 4203.408054061234 , training accuracy: 0.9380666666666667 , validation accuracy: 0.9384 , time: 64.90081787109375\n",
      "Epoch: 7 , squared loss: 3257.245361328125 , total loss: 3261.3149085035548 , training accuracy: 0.9412 , validation accuracy: 0.9395 , time: 64.87740993499756\n",
      "Epoch: 8 , squared loss: 2530.836181640625 , total loss: 2534.642513083294 , training accuracy: 0.9439833333333333 , validation accuracy: 0.9418 , time: 65.42034673690796\n",
      "Epoch: 9 , squared loss: 1958.2674560546875 , total loss: 1961.9273851457983 , training accuracy: 0.9462166666666667 , validation accuracy: 0.9435 , time: 64.76072454452515\n",
      "Epoch: 10 , squared loss: 1520.2000732421875 , total loss: 1524.1200939193368 , training accuracy: 0.9482333333333334 , validation accuracy: 0.9446 , time: 64.84508204460144\n",
      "Epoch: 11 , squared loss: 1180.431640625 , total loss: 1184.1284234710038 , training accuracy: 0.9502833333333334 , validation accuracy: 0.9454 , time: 66.8350579738617\n",
      "Epoch: 12 , squared loss: 913.5596313476562 , total loss: 917.0244833156466 , training accuracy: 0.9519 , validation accuracy: 0.9469 , time: 66.01862287521362\n",
      "Epoch: 13 , squared loss: 709.2149658203125 , total loss: 712.4112855792046 , training accuracy: 0.9534833333333333 , validation accuracy: 0.9485 , time: 65.60997796058655\n",
      "Epoch: 14 , squared loss: 550.2128295898438 , total loss: 553.8654352463782 , training accuracy: 0.9548 , validation accuracy: 0.9498 , time: 65.26349949836731\n",
      "Epoch: 15 , squared loss: 426.2735290527344 , total loss: 429.9393789358437 , training accuracy: 0.956 , validation accuracy: 0.9506 , time: 65.37382483482361\n",
      "Epoch: 16 , squared loss: 331.0276794433594 , total loss: 334.3836557865143 , training accuracy: 0.9566 , validation accuracy: 0.9512 , time: 65.2493028640747\n",
      "Epoch: 17 , squared loss: 256.45361328125 , total loss: 259.58827410265803 , training accuracy: 0.9576 , validation accuracy: 0.9517 , time: 66.05718040466309\n",
      "Epoch: 18 , squared loss: 198.9855499267578 , total loss: 201.8544980622828 , training accuracy: 0.9583333333333334 , validation accuracy: 0.9529 , time: 70.378089427948\n",
      "Epoch: 19 , squared loss: 154.54469299316406 , total loss: 157.39510209485888 , training accuracy: 0.95925 , validation accuracy: 0.9535 , time: 66.82798647880554\n",
      "Epoch: 20 , squared loss: 119.7060317993164 , total loss: 123.07049903459847 , training accuracy: 0.9596833333333333 , validation accuracy: 0.9541 , time: 65.15064549446106\n",
      "Epoch: 21 , squared loss: 92.91520690917969 , total loss: 96.60481747612357 , training accuracy: 0.9605833333333333 , validation accuracy: 0.9541 , time: 65.06186008453369\n",
      "Epoch: 22 , squared loss: 72.1488265991211 , total loss: 75.50542926415801 , training accuracy: 0.9607333333333333 , validation accuracy: 0.9542 , time: 65.34804034233093\n",
      "Epoch: 23 , squared loss: 55.91535186767578 , total loss: 58.73839760757983 , training accuracy: 0.9615833333333333 , validation accuracy: 0.955 , time: 65.15557622909546\n",
      "Epoch: 24 , squared loss: 43.419822692871094 , total loss: 45.93652200978249 , training accuracy: 0.9618 , validation accuracy: 0.955 , time: 65.22225975990295\n",
      "Epoch: 25 , squared loss: 33.696319580078125 , total loss: 37.25523943081498 , training accuracy: 0.9623333333333334 , validation accuracy: 0.9548 , time: 65.62927317619324\n",
      "Epoch: 26 , squared loss: 26.14389419555664 , total loss: 28.918772308155894 , training accuracy: 0.9627333333333333 , validation accuracy: 0.9549 , time: 65.5142285823822\n",
      "Epoch: 27 , squared loss: 20.3102970123291 , total loss: 23.51432328298688 , training accuracy: 0.9633333333333334 , validation accuracy: 0.9557 , time: 68.9654848575592\n",
      "Epoch: 28 , squared loss: 15.755707740783691 , total loss: 19.28920467849821 , training accuracy: 0.9630666666666666 , validation accuracy: 0.956 , time: 66.5502336025238\n",
      "Epoch: 29 , squared loss: 12.236991882324219 , total loss: 15.04707515379414 , training accuracy: 0.9633333333333334 , validation accuracy: 0.9564 , time: 68.8218424320221\n"
     ]
    }
   ],
   "source": [
    "# Iterations\n",
    "for k in range(niter):\n",
    "    start = time.time()\n",
    "     # record previous W1, W2, W3, W4, b1, b2, b3, b4\n",
    "    W10 = W1\n",
    "    W20 = W2\n",
    "    W30 = W3\n",
    "    W40 = W4\n",
    "    b10 = b1\n",
    "    b20 = b2\n",
    "    b30 = b3\n",
    "    b40 = b4\n",
    "\n",
    "    # update V4\n",
    "    V4 = (y_one_hot + gamma4*U4 + alpha1*V4)/(1 + gamma4 + alpha1)\n",
    "    \n",
    "    # update U4 \n",
    "    U4 = (gamma4*V4 + rho4*(torch.mm(W4,V3) + b4.repeat(1,N)))/(gamma4 + rho4)\n",
    "\n",
    "    # update W4 and b4\n",
    "    W4, b4 = updateWb_js(U4,V3,W4,b4,alpha2,rho4)\n",
    "    \n",
    "    # update V3\n",
    "    V3 = updateV_js(U3,U4,W4,b4,rho4,gamma3)\n",
    "    \n",
    "    # update U3\n",
    "    U3 = relu_prox(V3,(rho3*torch.addmm(b3.repeat(1,N), W3, V2) + alpha3*U3)/(rho3 + alpha3),(rho3 + alpha3)/gamma3,d3,N)\n",
    "    \n",
    "    # update W3 and b3\n",
    "    W3, b3 = updateWb_js(U3,V2,W3,b3,alpha4,rho3)\n",
    "    \n",
    "    # update V2\n",
    "    V2 = updateV_js(U2,U3,W3,b3,rho3,gamma2)\n",
    "    \n",
    "    # update U2\n",
    "    U2 = relu_prox(V2,(rho2*torch.addmm(b2.repeat(1,N), W2, V1) + alpha5*U2)/(rho2 + alpha5),(rho2 + alpha5)/gamma2,d2,N)\n",
    "    \n",
    "    # update W2 and b2\n",
    "    W2, b2 = updateWb_js(U2,V1,W2,b2,alpha6,rho2)\n",
    "\n",
    "    # update V1\n",
    "    V1 = updateV_js(U1,U2,W2,b2,rho2,gamma1)\n",
    "    \n",
    "    # update U1\n",
    "    U1 = relu_prox(V1,(rho1*torch.addmm(b1.repeat(1,N), W1, x_train) + alpha7*U1)/(rho1 + alpha7),(rho1 + alpha7)/gamma1,d1,N)\n",
    "\n",
    "    # update W1 and b1\n",
    "    W1, b1 = updateWb_js(U1,x_train,W1,b1,alpha8,rho1)\n",
    "\n",
    "    a1_train = nn.ReLU()(torch.addmm(b1.repeat(1, 60000), W1, x_train))\n",
    "    a2_train = nn.ReLU()(torch.addmm(b2.repeat(1, 60000), W2, a1_train))\n",
    "    a3_train = nn.ReLU()(torch.addmm(b3.repeat(1, 60000), W3, a2_train))\n",
    "    pred = torch.argmax(torch.addmm(b4.repeat(1, 60000), W4, a3_train), dim=0)\n",
    "\n",
    "    a1_test = nn.ReLU()(torch.addmm(b1.repeat(1, 10000), W1, x_test))\n",
    "    a2_test = nn.ReLU()(torch.addmm(b2.repeat(1, 10000), W2, a1_test))\n",
    "    a3_test = nn.ReLU()(torch.addmm(b3.repeat(1, 10000), W3, a2_test))\n",
    "    pred_test = torch.argmax(torch.addmm(b4.repeat(1, 10000), W4, a3_test), dim=0)\n",
    "    \n",
    "    loss1[k] = gamma4/2*torch.pow(torch.dist(V4,y_one_hot,2),2).cpu().numpy()\n",
    "    loss2[k] = loss1[k] + rho1/2*torch.pow(torch.dist(torch.addmm(b1.repeat(1,N), W1, x_train),U1,2),2).cpu().numpy() \\\n",
    "    +rho2/2*torch.pow(torch.dist(torch.addmm(b2.repeat(1,N), W2, V1),U2,2),2).cpu().numpy() \\\n",
    "    +rho3/2*torch.pow(torch.dist(torch.addmm(b3.repeat(1,N), W3, V2),U3,2),2).cpu().numpy() \\\n",
    "    +rho4/2*torch.pow(torch.dist(torch.addmm(b4.repeat(1,N), W4, V3),U4,2),2).cpu().numpy()\n",
    "    \n",
    "    correct_train = pred == y_train\n",
    "    accuracy_train[k] = np.mean(correct_train.cpu().numpy())\n",
    "    correct_test = pred_test == y_test\n",
    "    accuracy_test[k] = np.mean(correct_test.cpu().numpy())\n",
    "    stop = time.time()\n",
    "    duration = stop-start\n",
    "    time1[k] = duration\n",
    "    print('Epoch:', k, ',', 'squared loss:', loss1[k], ',', 'total loss:', loss2[k], ',', 'training accuracy:', \\\n",
    "          accuracy_train[k], ',', 'validation accuracy:', accuracy_test[k], ',', 'time:', time1[k])"
   ]
  },
  {
   "cell_type": "markdown",
   "metadata": {},
   "source": [
    "### Visualization of training results"
   ]
  },
  {
   "cell_type": "code",
   "execution_count": 10,
   "metadata": {},
   "outputs": [
    {
     "data": {
      "text/plain": [
       "Text(0.5,1,'validation accuracy')"
      ]
     },
     "execution_count": 10,
     "metadata": {},
     "output_type": "execute_result"
    },
    {
     "data": {
      "image/png": "[encoded data removed]",
      "text/plain": [
       "<Figure size 432x288 with 1 Axes>"
      ]
     },
     "metadata": {},
     "output_type": "display_data"
    },
    {
     "data": {
      "image/png": "[encoded data removed]",
      "text/plain": [
       "<Figure size 432x288 with 1 Axes>"
      ]
     },
     "metadata": {},
     "output_type": "display_data"
    }
   ],
   "source": [
    "plt.figure()\n",
    "plt.plot(np.arange(1,niter+1), loss2)\n",
    "plt.title('training loss')\n",
    "\n",
    "plt.figure()\n",
    "plt.plot(np.arange(1,niter+1), accuracy_test)\n",
    "plt.title('validation accuracy')"
   ]
  }
 ],
 "metadata": {
  "kernelspec": {
   "display_name": "Python 3",
   "language": "python",
   "name": "python3"
  },
  "language_info": {
   "codemirror_mode": {
    "name": "ipython",
    "version": 3
   },
   "file_extension": ".py",
   "mimetype": "text/x-python",
   "name": "python",
   "nbconvert_exporter": "python",
   "pygments_lexer": "ipython3",
   "version": "3.6.6"
  }
 },
 "nbformat": 4,
 "nbformat_minor": 2
}
